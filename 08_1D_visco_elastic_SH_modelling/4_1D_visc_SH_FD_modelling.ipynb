{
 "cells": [
  {
   "cell_type": "markdown",
   "metadata": {},
   "source": [
    "###### Content under Creative Commons Attribution license CC-BY 4.0, code under BSD 3-Clause License © 2018 by D. Koehn, notebook style sheet by L.A. Barba, N.C. Clementi"
   ]
  },
  {
   "cell_type": "code",
   "execution_count": 1,
   "metadata": {},
   "outputs": [
    {
     "data": {
      "text/html": [
       "<link href=\"https://fonts.googleapis.com/css?family=Merriweather:300,300i,400,400i,700,700i,900,900i\" rel='stylesheet' >\n",
       "<link href=\"https://fonts.googleapis.com/css?family=Source+Sans+Pro:300,300i,400,400i,700,700i\" rel='stylesheet' >\n",
       "<link href='http://fonts.googleapis.com/css?family=Source+Code+Pro:300,400' rel='stylesheet' >\n",
       "<style>\n",
       "\n",
       "@font-face {\n",
       "    font-family: \"Computer Modern\";\n",
       "    src: url('http://mirrors.ctan.org/fonts/cm-unicode/fonts/otf/cmunss.otf');\n",
       "}\n",
       "\n",
       "\n",
       "#notebook_panel { /* main background */\n",
       "    background: rgb(245,245,245);\n",
       "}\n",
       "\n",
       "div.cell { /* set cell width */\n",
       "    width: 800px;\n",
       "}\n",
       "\n",
       "div #notebook { /* centre the content */\n",
       "    background: #fff; /* white background for content */\n",
       "    width: 1000px;\n",
       "    margin: auto;\n",
       "    padding-left: 0em;\n",
       "}\n",
       "\n",
       "#notebook li { /* More space between bullet points */\n",
       "margin-top:0.5em;\n",
       "}\n",
       "\n",
       "/* draw border around running cells */\n",
       "div.cell.border-box-sizing.code_cell.running { \n",
       "    border: 1px solid #111;\n",
       "}\n",
       "\n",
       "/* Put a solid color box around each cell and its output, visually linking them*/\n",
       "div.cell.code_cell {\n",
       "    background-color: rgb(256,256,256); \n",
       "    border-radius: 0px; \n",
       "    padding: 0.5em;\n",
       "    margin-left:1em;\n",
       "    margin-top: 1em;\n",
       "}\n",
       "\n",
       "\n",
       "div.text_cell_render{\n",
       "    font-family: 'Source Sans Pro', sans-serif;\n",
       "    line-height: 140%;\n",
       "    font-size: 110%;\n",
       "    width:680px;\n",
       "    margin-left:auto;\n",
       "    margin-right:auto;\n",
       "}\n",
       "\n",
       "/* Formatting for header cells */\n",
       ".text_cell_render h1 {\n",
       "    font-family: 'Merriweather', serif;\n",
       "    font-style:regular;\n",
       "    font-weight: bold;    \n",
       "    font-size: 250%;\n",
       "    line-height: 100%;\n",
       "    color: #004065;\n",
       "    margin-bottom: 1em;\n",
       "    margin-top: 0.5em;\n",
       "    display: block;\n",
       "}\t\n",
       ".text_cell_render h2 {\n",
       "    font-family: 'Merriweather', serif;\n",
       "    font-weight: bold; \n",
       "    font-size: 180%;\n",
       "    line-height: 100%;\n",
       "    color: #0096d6;\n",
       "    margin-bottom: 0.5em;\n",
       "    margin-top: 0.5em;\n",
       "    display: block;\n",
       "}\t\n",
       "\n",
       ".text_cell_render h3 {\n",
       "    font-family: 'Merriweather', serif;\n",
       "\tfont-size: 150%;\n",
       "    margin-top:12px;\n",
       "    margin-bottom: 3px;\n",
       "    font-style: regular;\n",
       "    color: #008367;\n",
       "}\n",
       "\n",
       ".text_cell_render h4 {    /*Use this for captions*/\n",
       "    font-family: 'Merriweather', serif;\n",
       "    font-weight: 300; \n",
       "    font-size: 100%;\n",
       "    line-height: 120%;\n",
       "    text-align: left;\n",
       "    width:500px;\n",
       "    margin-top: 1em;\n",
       "    margin-bottom: 2em;\n",
       "    margin-left: 80pt;\n",
       "    font-style: regular;\n",
       "}\n",
       "\n",
       ".text_cell_render h5 {  /*Use this for small titles*/\n",
       "    font-family: 'Source Sans Pro', sans-serif;\n",
       "    font-weight: regular;\n",
       "    font-size: 130%;\n",
       "    color: #e31937;\n",
       "    font-style: italic;\n",
       "    margin-bottom: .5em;\n",
       "    margin-top: 1em;\n",
       "    display: block;\n",
       "}\n",
       "\n",
       ".text_cell_render h6 { /*use this for copyright note*/\n",
       "    font-family: 'Source Code Pro', sans-serif;\n",
       "    font-weight: 300;\n",
       "    font-size: 9pt;\n",
       "    line-height: 100%;\n",
       "    color: grey;\n",
       "    margin-bottom: 1px;\n",
       "    margin-top: 1px;\n",
       "}\n",
       "\n",
       "    .CodeMirror{\n",
       "            font-family: \"Source Code Pro\";\n",
       "\t\t\tfont-size: 90%;\n",
       "    }\n",
       "/*    .prompt{\n",
       "        display: None;\n",
       "    }*/\n",
       "\t\n",
       "    \n",
       "    .warning{\n",
       "        color: rgb( 240, 20, 20 )\n",
       "        }  \n",
       "</style>\n",
       "<script>\n",
       "    MathJax.Hub.Config({\n",
       "                        TeX: {\n",
       "                           extensions: [\"AMSmath.js\"], \n",
       "                           equationNumbers: { autoNumber: \"AMS\", useLabelIds: true}\n",
       "                           },\n",
       "                tex2jax: {\n",
       "                    inlineMath: [ ['$','$'], [\"\\\\(\",\"\\\\)\"] ],\n",
       "                    displayMath: [ ['$$','$$'], [\"\\\\[\",\"\\\\]\"] ]\n",
       "                },\n",
       "                displayAlign: 'center', // Change this to 'center' to center equations.\n",
       "                \"HTML-CSS\": {\n",
       "                    styles: {'.MathJax_Display': {\"margin\": 4}}\n",
       "                }\n",
       "        });\n",
       "</script>\n"
      ],
      "text/plain": [
       "<IPython.core.display.HTML object>"
      ]
     },
     "execution_count": 1,
     "metadata": {},
     "output_type": "execute_result"
    }
   ],
   "source": [
    "# Execute this cell to load the notebook's style sheet, then ignore it\n",
    "from IPython.core.display import HTML\n",
    "css_file = '../style/custom.css'\n",
    "HTML(open(css_file, \"r\").read())"
   ]
  },
  {
   "cell_type": "markdown",
   "metadata": {},
   "source": [
    "# 1D viscoelastic SH modelling\n",
    "\n",
    "After deriving the equations of motion for 1D wave propagation in viscoelastic SH media, we can now solve the problem using a staggered grid FD scheme. Furthermore, the anelastic coefficients of the Generalized Maxwell body (GMB) are optimized by a global Differential Evolution (DE) algorithm to achive a constant Q-spectrum. Finally, elastic and viscoelastic modelling results for a homogeneous model are compared."
   ]
  },
  {
   "cell_type": "markdown",
   "metadata": {},
   "source": [
    "## FD solution of 1D isotropic viscoelastic SH problem\n",
    "\n",
    "As derived in the last lesson, we can describe the 1D viscoelastic SH problem by the partial differential equations:\n",
    "\n",
    "\n",
    "\n",
    "The 2nd order space/time FD scheme on a staggered grid \n",
    "\n",
    "<img src=\"images/SG_1D_SH-Cart.png\" width=\"50%\">\n",
    "\n",
    "using explicit time-stepping with the Leapfrog method to solve the 1D viscoelastic SH problem can be written as \n",
    "\n",
    "\\begin{align}\n",
    "\\scriptsize \n",
    "\\frac{v_y(i,n+1/2) - v_y(i,n-1/2)}{dt} &\\scriptsize= \\frac{1}{\\rho}\\biggl\\{\\biggl(\\frac{\\partial \\sigma_{yx}}{\\partial x}\\biggr)^c(i,n) + f_y(i,n)\\biggr\\}, \\notag\\\\\n",
    "\\scriptsize\\frac{\\sigma_{yx}(i+1/2,n+1) - \\sigma_{yx}(i+1/2,n)}{dt} &\\scriptsize= \\mu_{x,u} \\biggl(\\frac{\\partial v_{y}}{\\partial x}\\biggr)^c(i+1/2,n+1/2) - \\sum_{l=1}^L Y_l\\xi_l(i+1/2,n),\\notag\\\\\n",
    "\\scriptsize \\frac{\\xi_l(i+1/2,n+1/2) - \\xi_l(i+1/2,n-1/2)}{dt} &\\scriptsize= \\omega_l \\biggl(\\frac{\\partial v_{y}}{\\partial x}\\biggr)^c(i+1/2,n+1/2) - \\omega_l \\xi_l(i+1/2,n-1/2)\\notag\n",
    "\\end{align}\n",
    "\n",
    "with the unrelaxed shear modulus \n",
    "\n",
    "\\begin{equation}\n",
    "\\mu_u = \\frac{\\mu}{1-\\sum_{l=1}^L Y_l}\\notag\n",
    "\\end{equation}\n",
    "\n",
    "and the harmonically averaged unrelaxed shear modulus\n",
    "\n",
    "\\begin{equation}\n",
    "\\mu_{x,u} = 2 \\biggl(\\frac{1}{\\mu_u(i)}+\\frac{1}{\\mu_u(i+1)}\\biggr)^{-1}\\notag\n",
    "\\end{equation}\n",
    "\n",
    "Notice that we have to evaluate the memory variables $\\xi_l$ in the stress update at a full time step, which has to be estimated from the $\\xi_l$-values at half-time steps by arithmetic averaging:\n",
    "\n",
    "\\begin{equation}\n",
    "\\xi_l(i+1/2,n) = \\frac{\\xi_l(i+1/2,n+1/2)+\\xi_l(i+1/2,n-1/2)}{2}\\notag\n",
    "\\end{equation}"
   ]
  },
  {
   "cell_type": "markdown",
   "metadata": {},
   "source": [
    "### Initial and boundary conditions\n",
    "\n",
    "Because we have analytical solutions for wave propagation in homogeneous elastic media, we should test our code implementation for a similar medium, by setting density $\\rho$ and shear modulus $\\mu$ to constant values $\\rho_0,\\; \\mu_0$\n",
    "\n",
    "\\begin{align}\n",
    "\\rho(i) &= \\rho_0 \\notag \\\\\n",
    "\\mu(i) &= \\mu_0 = \\rho_0 V_{s0}^2\\notag\n",
    "\\end{align}\n",
    "\n",
    "at each spatial grid point $i = 0, 1, 2, ..., nx$ and staggered grid points $i+1/2$ in order to compare the numerical with the analytical solution. For a complete description of the problem we also have to define initial and boundary conditions. The **initial condition** is \n",
    "\n",
    "\\begin{equation}\n",
    "v_y(i,-1/2) = \\sigma_{yx}(i+1/2,0) = \\xi_{l}(i+1/2,-1/2) = 0, \\nonumber\n",
    "\\end{equation}\n",
    "\n",
    "so the modelling starts with zero particle velocity, shear stress and memory variable amplitudes at each spatial grid point. As **boundary conditions**, we assume \n",
    "\n",
    "\\begin{align}\n",
    "v_y(0,n) &= \\sigma_{yx}(1/2,n) = \\xi_{l}(1/2,n) = 0, \\nonumber\\\\\n",
    "v_y(nx,n) &= \\sigma_{yx}(nx+1/2,n) = \\xi_{l}(nx+1/2,n) = 0, \\nonumber\\\\\n",
    "\\end{align}\n",
    "\n",
    "for all full and staggered time steps n, n+1/2. This **Dirichlet boundary condition**, leads to artifical boundary reflections which would obviously not describe a homogeneous medium. For now, we simply extend the model, so that boundary reflections are not recorded at the receiver positions.\n",
    "\n",
    "Let's implement it ..."
   ]
  },
  {
   "cell_type": "code",
   "execution_count": 2,
   "metadata": {
    "code_folding": [
     0
    ]
   },
   "outputs": [],
   "source": [
    "# Import Libraries \n",
    "# ----------------\n",
    "import numpy as np\n",
    "from numba import jit\n",
    "import matplotlib\n",
    "import matplotlib.pyplot as plt\n",
    "from pylab import rcParams\n",
    "from scipy.optimize import differential_evolution\n",
    "\n",
    "# Ignore Warning Messages\n",
    "# -----------------------\n",
    "import warnings\n",
    "warnings.filterwarnings(\"ignore\")"
   ]
  },
  {
   "cell_type": "markdown",
   "metadata": {},
   "source": [
    "## Optimizing Yl coefficients\n",
    "\n",
    "To achieve a constant Q-spectrum, we have to optimize the anelastic coefficients $Y_l$. This can be achieved by minimizing the objective function:\n",
    "\n",
    "\\begin{equation}\n",
    "\\chi(Y_l) = \\int_{\\omega_{min}}^{\\omega_{max}} \\biggl(Q^{-1}(Y_l,\\omega) - Q^{-1}_{opt}\\biggr)^2 d\\omega\\notag\n",
    "\\end{equation}\n",
    "\n",
    "where $Q^{-1}_{opt}$ denotes the target constant inverse Q-value within the frequency range of the source wavelet and \n",
    "\n",
    "\\begin{equation}\n",
    "Q^{-1}(Y_l,\\omega) = \\sum_{l=1}^L Y_l \\frac{\\omega_l\\omega}{\\omega^2+\\omega_l^2}\\notag\n",
    "\\end{equation}\n",
    "\n",
    "is an approximation of the GMB Q-spectrum for $Q>>1$ according to ([Blanch et al. 1995](https://library.seg.org/doi/abs/10.1190/1.1443744), [Bohlen 2002](https://www.sciencedirect.com/science/article/pii/S0098300402000067), [Yang et al. 2016](https://jean-virieux.obs.ujf-grenoble.fr/IMG/pdf/2016_yang_viscoelastic_final-3.pdf)). The objective function can be minimized using local or global optimization methods. In this case, we will use a global optimization [Differential Evolution (DE)](https://pablormier.github.io/2017/09/05/a-tutorial-on-differential-evolution-with-python/) algorithm available from `SciPy Optimization` library.\n",
    "\n",
    "In the following example, we want to solve the viscoelastic SH-problem by the (2,2)-FD algorithm defined above for a homogeneous model using 4 Maxwell bodies and target for a constant Q=20 value in a frequency band between 5 and 100 Hz:"
   ]
  },
  {
   "cell_type": "code",
   "execution_count": 3,
   "metadata": {},
   "outputs": [],
   "source": [
    "# Define GMB models\n",
    "# -----------------\n",
    "Qopt = 20     # target Q-value\n",
    "L = 4         # number of Maxwell bodies    \n",
    "nfreq = 50    # number of frequencies to estimate Q-model\n",
    "\n",
    "fmin = 5.     # minimum frequency \n",
    "fmax = 100.0  # maximum frequency\n",
    "\n",
    "f = np.linspace(fmin,fmax,num=nfreq)  # calculate frequencies to estimate Q-model\n",
    "w = 2 * np.pi * f                     # circular frequencies to estimate Q-model \n",
    "\n",
    "fl = np.linspace(fmin,fmax,num=L)  # calculate relaxation frequencies\n",
    "wl = 2 * np.pi * fl                # circular relaxation frequencies "
   ]
  },
  {
   "cell_type": "markdown",
   "metadata": {},
   "source": [
    "Next, we define the objective function to optimize the $Y_l$ values ..."
   ]
  },
  {
   "cell_type": "code",
   "execution_count": 4,
   "metadata": {},
   "outputs": [],
   "source": [
    "# Objective function to optimize Yl values\n",
    "# ----------------------------------------\n",
    "def obj_Yl(Yl):                   \n",
    "    \n",
    "    # Calculate Qs model based on GMB\n",
    "    # -------------------------------\n",
    "    Qinv_GMB = np.zeros(nfreq)\n",
    "    Qinv_const = (1/Qopt) * np.ones(nfreq)\n",
    "    \n",
    "    for l in range (0,L):    \n",
    "        Qinv_GMB += Yl[l] * (wl[l] * w) / (w**2+wl[l]**2)\n",
    "    \n",
    "    # Calculate objective function\n",
    "    obj_Qinv = np.sum((Qinv_GMB - Qinv_const)**2)\n",
    "    \n",
    "    return obj_Qinv"
   ]
  },
  {
   "cell_type": "markdown",
   "metadata": {},
   "source": [
    "A function to evaluate the Q-spectrum for given $Y_l$ values might be also useful ..."
   ]
  },
  {
   "cell_type": "code",
   "execution_count": 5,
   "metadata": {},
   "outputs": [],
   "source": [
    "# Calculate Q-spectrum for given Yl parameters and circular relaxation frequencies\n",
    "# --------------------------------------------------------------------------------\n",
    "def calc_Q(Yl):            \n",
    "    \n",
    "    # Calculate Qs model based on GMB\n",
    "    # -------------------------------\n",
    "    Qinv_GMB = np.zeros(nfreq)    \n",
    "    for l in range (0,L):    \n",
    "        Qinv_GMB += Yl[l] * (wl[l] * w) / (w**2+wl[l]**2) \n",
    "    \n",
    "    return f, Qinv_GMB"
   ]
  },
  {
   "cell_type": "markdown",
   "metadata": {},
   "source": [
    "To optimize the $Y_l$ values, we define their bounds necessary for the DE-algorithm, minimize the objective function, store the resulting $Y_l$ values and plot the optimized Q-spectrum"
   ]
  },
  {
   "cell_type": "code",
   "execution_count": 6,
   "metadata": {},
   "outputs": [
    {
     "name": "stdout",
     "output_type": "stream",
     "text": [
      "  Final obj_Qinv =  7.651346890187525e-05\n",
      "Yl =  [0.08706609 0.03667265 0.         0.0629249 ]\n",
      "wl =  [ 31.41592654 230.38346126 429.35099599 628.31853072]\n"
     ]
    },
    {
     "data": {
      "image/png": "[encoded data removed]",
      "text/plain": [
       "<Figure size 504x360 with 1 Axes>"
      ]
     },
     "metadata": {},
     "output_type": "display_data"
    }
   ],
   "source": [
    "# Optimize dimensionless, anelastic coefficients Yl\n",
    "# -------------------------------------------------\n",
    "\n",
    "# Define bound constraints for DE algorithm\n",
    "bounds = [(0.0, 1), (0.0, 1), (0.0, 1), (0.0, 1)]\n",
    "\n",
    "# Optimize Q-model by Differential Evolution\n",
    "DE_result = differential_evolution(obj_Yl, bounds)\n",
    "print('  Final obj_Qinv = ', DE_result.fun)\n",
    "\n",
    "# Calculate optimum Q model\n",
    "f, Qinv_GMB = calc_Q(DE_result.x)\n",
    "\n",
    "# Store and display optimized Yl, wl values\n",
    "Yl = np.zeros(L)\n",
    "Yl = DE_result.x\n",
    "print('Yl = ', Yl)\n",
    "print('wl = ', wl)\n",
    "\n",
    "# Calculate Q(omega)\n",
    "Q = 1 / Qinv_GMB\n",
    "\n",
    "# Define figure size\n",
    "rcParams['figure.figsize'] = 7, 5\n",
    "\n",
    "# plot stress-strain relation\n",
    "plt.plot(f, Q, 'r-',lw=3,label=\"Generalized Maxwell model\") \n",
    "plt.title(r'$Q(\\omega)$ for Generalized Maxwell model')\n",
    "plt.xlabel('Frequency f [Hz]')\n",
    "plt.ylabel(r'$Q$ []')\n",
    "plt.ylim(0,2*Qopt)\n",
    "plt.grid()\n",
    "plt.show()"
   ]
  },
  {
   "cell_type": "markdown",
   "metadata": {},
   "source": [
    "As usual, we define the modelling parameters ..."
   ]
  },
  {
   "cell_type": "code",
   "execution_count": 7,
   "metadata": {
    "code_folding": [],
    "scrolled": false
   },
   "outputs": [],
   "source": [
    "# Definition of modelling parameters\n",
    "# ----------------------------------\n",
    "xmax = 500.0 # maximum spatial extension of the 1D model in x-direction (m)\n",
    "tmax = 0.502   # maximum recording time of the seismogram (s)\n",
    "\n",
    "vs0  = 580.   # S-wave speed in medium (m/s)\n",
    "rho0 = 1000.  # Density in medium (kg/m^3)\n",
    "\n",
    "# acquisition geometry\n",
    "xr = 330.0 # x-receiver position (m)\n",
    "\n",
    "xsrc = 250.0 # x-source position (m)\n",
    "\n",
    "f0   = 40. # dominant frequency of the source (Hz)\n",
    "t0   = 4. / f0 # source time shift (s)"
   ]
  },
  {
   "cell_type": "markdown",
   "metadata": {},
   "source": [
    "Next, we first test the elastic part of the 1D SH code and compare it with the analytical solution and finally run the viscoelastic SH code."
   ]
  },
  {
   "cell_type": "markdown",
   "metadata": {},
   "source": [
    "## Comparison of 2D finite difference with analytical solution for homogeneous Vs model\n",
    "\n",
    "In a previous [exercise](https://danielkoehnsite.files.wordpress.com/2018/04/ex_02_tew21.pdf) you proved that the analytical solutions for the homogeneous 1D acoustic and 1D elastic SH problem, beside a density factor $1/\\rho_0$, are actual identical . In the function below we solve the homogeneous 1D SH problem by centered 2nd order spatial/temporal difference operators and compare the numerical results with the analytical solution: \n",
    "\n",
    "\\begin{equation}\n",
    "u_{y,analy}(x,t) = G_{1D} * S \\nonumber \n",
    "\\end{equation}\n",
    "\n",
    "with the 1D Green's function:\n",
    "\n",
    "\\begin{equation}\n",
    "G_{1D}(x,t) = \\dfrac{1}{2 \\rho_0 V_{s0}}H\\biggl((t-t_s)-\\dfrac{|r|}{V_{s0}}\\biggr), \\nonumber \n",
    "\\end{equation}\n",
    "\n",
    "where $H$ denotes the Heaviside function, $r = \\sqrt{(x-x_s)^2}$ the source-receiver distance (offset) and $S$ the source wavelet. Keep in mind that the stress-velocity code computes the **particle velocities** $\\mathbf{v_{y,analy}}$, while the analytical solution is expressed in terms of the **displacement** $\\mathbf{u_{y,analy}}$. Therefore, we have to take the first derivative of the analytical solution, before comparing the numerical with the analytical solution:\n",
    "\n",
    "\\begin{equation}\n",
    "v_{y,analy}(x,t) = \\frac{\\partial u_{y,analy}}{\\partial t} \\nonumber \n",
    "\\end{equation}\n",
    "\n",
    "To implement the 2D SH code, we first introduce functions to update the particle velocity $v_y$ ..."
   ]
  },
  {
   "cell_type": "code",
   "execution_count": 8,
   "metadata": {},
   "outputs": [],
   "source": [
    "# Particle velocity vy update\n",
    "# ---------------------------\n",
    "@jit(nopython=True) # use JIT for C-performance\n",
    "def update_vel(vy, syx, dx, dt, nx, rho):\n",
    "    \n",
    "    for i in range(1, nx - 1):\n",
    "            \n",
    "        # Calculate spatial derivatives            \n",
    "        syx_x = (syx[i] - syx[i - 1]) / dx\n",
    "\n",
    "        # Update particle velocities\n",
    "        vy[i] = vy[i] + (dt/rho[i]) * syx_x                \n",
    "                    \n",
    "    return vy"
   ]
  },
  {
   "cell_type": "markdown",
   "metadata": {},
   "source": [
    "... update the shear stress component $\\sigma_{yx}$ for the elastic medium ..."
   ]
  },
  {
   "cell_type": "code",
   "execution_count": 9,
   "metadata": {},
   "outputs": [],
   "source": [
    "# Shear stress syx updates (elastic)\n",
    "# ----------------------------------\n",
    "@jit(nopython=True) # use JIT for C-performance\n",
    "def update_stress(vy, syx, dx, dt, nx, mux):\n",
    "    \n",
    "    for i in range(1, nx - 1):\n",
    "            \n",
    "        # Calculate spatial derivatives            \n",
    "        vy_x = (vy[i + 1] - vy[i]) / dx\n",
    "\n",
    "        # Update shear stress\n",
    "        syx[i] = syx[i] + dt * mux[i] * vy_x\n",
    "                    \n",
    "    return syx"
   ]
  },
  {
   "cell_type": "markdown",
   "metadata": {},
   "source": [
    "... and a function for the shear stress update $\\sigma_{yx}$ for the viscoelastic case ..."
   ]
  },
  {
   "cell_type": "code",
   "execution_count": 10,
   "metadata": {},
   "outputs": [],
   "source": [
    "# Shear stress syx updates (viscoelastic)\n",
    "# ---------------------------------------\n",
    "@jit(nopython=True) # use JIT for C-performance\n",
    "def update_stress_visc(vy, syx, xi, Yl, wl, L, dx, dt, nx, mux):\n",
    "    \n",
    "    for i in range(1, nx - 1):\n",
    "            \n",
    "        # Calculate spatial derivatives            \n",
    "        vy_x = (vy[i + 1] - vy[i]) / dx        \n",
    "        \n",
    "        # Calculate sum over memory variables\n",
    "        xi_sum = 0.0\n",
    "        for l in range(0, L):\n",
    "            xi_sum += Yl[l] * xi[i,l]\n",
    "        \n",
    "        # Update shear stress \n",
    "        # Note that the factor 0.5 in front of the memory variables sum \n",
    "        # is due to the arithmetic averaging of the xi variables at \n",
    "        # the staggered time steps\n",
    "        syx[i] = syx[i] + dt * mux[i] * (vy_x - 0.5 * xi_sum)\n",
    "        \n",
    "        # Update memory variables\n",
    "        xi_sum = 0.0\n",
    "        for l in range(0, L):\n",
    "            xi[i,l] += dt * wl[l] * (vy_x - xi[i,l])\n",
    "            \n",
    "            # After xi update calculate new xi_sum ...\n",
    "            xi_sum += Yl[l] * xi[i,l]\n",
    "        \n",
    "        # ... and finish stress update\n",
    "        syx[i] = syx[i] - dt * mux[i] * xi_sum\n",
    "        \n",
    "    return syx, xi"
   ]
  },
  {
   "cell_type": "markdown",
   "metadata": {},
   "source": [
    "... and harmonically averaging the (unrelaxed) shear modulus ..."
   ]
  },
  {
   "cell_type": "code",
   "execution_count": 11,
   "metadata": {},
   "outputs": [],
   "source": [
    "# Harmonic averages of shear modulus\n",
    "# ----------------------------------\n",
    "@jit(nopython=True) # use JIT for C-performance\n",
    "def shear_avg(mu, nx, mux):\n",
    "    \n",
    "    for i in range(1, nx - 1):\n",
    "            \n",
    "        # Calculate harmonic averages of shear moduli        \n",
    "        mux[i] = 2 / (1 / mu[i + 1] + 1 / mu[i])\n",
    "            \n",
    "    return mux"
   ]
  },
  {
   "cell_type": "markdown",
   "metadata": {},
   "source": [
    "Finally, we can assemble the main FD code ..."
   ]
  },
  {
   "cell_type": "code",
   "execution_count": 12,
   "metadata": {
    "code_folding": [
     42
    ]
   },
   "outputs": [],
   "source": [
    "# 2D SH viscoelastic wave propagation (Finite Difference Solution) \n",
    "# ----------------------------------------------------------------\n",
    "def FD_1D_visc_SH_JIT(dt,dx,f0,xsrc,Yl,wl,L,mode):\n",
    "        \n",
    "    nx = (int)(xmax/dx) # number of grid points in x-direction\n",
    "    print('nx = ',nx)    \n",
    "            \n",
    "    nt = (int)(tmax/dt) # maximum number of time steps            \n",
    "    print('nt = ',nt)\n",
    "    \n",
    "    ir = (int)(xr/dx)      # receiver location in grid in x-direction    \n",
    "    isrc = (int)(xsrc/dx)  # source location in grid in x-direction\n",
    "\n",
    "    # Source time function (Gaussian)\n",
    "    # -------------------------------\n",
    "    src  = np.zeros(nt + 1)\n",
    "    time = np.linspace(0 * dt, nt * dt, nt)\n",
    "\n",
    "    # 1st derivative of a Gaussian\n",
    "    src  = -2. * (time - t0) * (f0 ** 2) * (np.exp(- (f0 ** 2) * (time - t0) ** 2))\n",
    "\n",
    "    # Analytical solution\n",
    "    # -------------------\n",
    "    G        = time * 0.\n",
    "    vy_analy = time * 0.\n",
    "\n",
    "    # Initialize coordinates\n",
    "    # ----------------------\n",
    "    x    = np.arange(nx)\n",
    "    x    = x * dx       # coordinates in x-direction (m)\n",
    "    \n",
    "    # calculate source-receiver distance\n",
    "    r = np.sqrt((x[ir] - x[isrc])**2)\n",
    "    \n",
    "    for it in range(nt): # Calculate Green's function (Heaviside function)\n",
    "        if (time[it] - r / vs0) >= 0:\n",
    "            G[it] = 1. / (2 * rho0 * vs0)\n",
    "    Gc   = np.convolve(G, src * dt)\n",
    "    Gc   = Gc[0:nt]\n",
    "    \n",
    "    # compute vy_analy from uy_analy\n",
    "    for i in range(1, nt - 1):\n",
    "        vy_analy[i] = (Gc[i+1] - Gc[i-1]) / (2.0 * dt)           \n",
    "    \n",
    "    # Initialize empty wavefield arrays\n",
    "    # ---------------------------------\n",
    "    vy    = np.zeros(nx) # particle velocity vy\n",
    "    syx   = np.zeros(nx) # shear stress syx     \n",
    "\n",
    "    # Initialize model (assume homogeneous model)\n",
    "    # -------------------------------------------    \n",
    "    vs    = np.zeros(nx)\n",
    "    vs    = vs + vs0      # initialize wave velocity in model\n",
    "    \n",
    "    rho   = np.zeros(nx)\n",
    "    rho   = rho + rho0    # initialize wave velocity in model\n",
    "    \n",
    "    # calculate shear modulus\n",
    "    # -----------------------\n",
    "    mu    = np.zeros(nx)\n",
    "    mu    = rho * vs ** 2 \n",
    "    \n",
    "    # Estimate unrelaxed shear modulus in viscoelastic case\n",
    "    # -----------------------------------------------------\n",
    "    if(mode=='visc'):\n",
    "        mu1 = mu / (1 - np.sum(Yl))\n",
    "    \n",
    "    # harmonic average of shear moduli\n",
    "    # --------------------------------\n",
    "    if(mode=='elast'):\n",
    "        mux   = mu # initialize harmonic average mux\n",
    "    \n",
    "    if(mode=='visc'):\n",
    "        mux   = mu1 # initialize harmonic average mux \n",
    "    \n",
    "    mux = shear_avg(mu, nx, mux)\n",
    "    \n",
    "    # Initialize memory variables\n",
    "    # ---------------------------\n",
    "    if(mode=='visc'):\n",
    "        xi = np.zeros((nx,L))\n",
    "    \n",
    "    # Initialize empty seismogram\n",
    "    # ---------------------------\n",
    "    seis = np.zeros(nt) \n",
    "    \n",
    "    # Time looping\n",
    "    # ------------\n",
    "    for it in range(nt):\n",
    "    \n",
    "        # Update particle velocity vy\n",
    "        # ---------------------------\n",
    "        vy = update_vel(vy, syx, dx, dt, nx, rho)\n",
    "\n",
    "        # Add Source Term at isrc\n",
    "        # ------------------------------\n",
    "        # Absolute particle velocity w.r.t analytical solution\n",
    "        vy[isrc] = vy[isrc] + (dt * src[it] / (rho[isrc] * dx))\n",
    "        \n",
    "        # Update shear stress syx, syz\n",
    "        # ----------------------------\n",
    "        if(mode=='elast'):\n",
    "            syx = update_stress(vy, syx, dx, dt, nx, mux)                \n",
    "            \n",
    "        if(mode=='visc'):\n",
    "            syx, xi = update_stress_visc(vy, syx, xi, Yl, wl, L, dx, dt, nx, mux)                           \n",
    "            \n",
    "        # Output of Seismogram\n",
    "        # -----------------\n",
    "        seis[it] = vy[ir]   \n",
    "        \n",
    "    # Compare FD Seismogram with analytical solution\n",
    "    # ---------------------------------------------- \n",
    "    # Define figure size\n",
    "    rcParams['figure.figsize'] = 12, 5\n",
    "    \n",
    "    if(mode=='elast'):\n",
    "        label = \"Elastic FD solution\"\n",
    "        \n",
    "    if(mode=='visc'):\n",
    "        label = \"Viscoelastic FD solution (Q = \" + str(Qopt) + \")\"    \n",
    "    \n",
    "    plt.plot(time, seis, 'b-',lw=3,label=label) # plot FD seismogram\n",
    "    Analy_seis = plt.plot(time,vy_analy,'r--',lw=3,label=\"Elastic analytical solution\") # plot analytical solution\n",
    "    plt.xlim(time[0], time[-1])\n",
    "    plt.title('Seismogram')\n",
    "    plt.xlabel('Time (s)')\n",
    "    plt.ylabel('Amplitude')\n",
    "    plt.legend()\n",
    "    plt.grid()\n",
    "    plt.show()"
   ]
  },
  {
   "cell_type": "markdown",
   "metadata": {},
   "source": [
    "... run the elastic FD code and compare the result with the analytical solution:"
   ]
  },
  {
   "cell_type": "code",
   "execution_count": 13,
   "metadata": {},
   "outputs": [
    {
     "name": "stdout",
     "output_type": "stream",
     "text": [
      "nx =  500\n",
      "nt =  502\n"
     ]
    },
    {
     "data": {
      "image/png": "[encoded data removed]",
      "text/plain": [
       "<Figure size 864x360 with 1 Axes>"
      ]
     },
     "metadata": {},
     "output_type": "display_data"
    },
    {
     "name": "stdout",
     "output_type": "stream",
     "text": [
      "CPU times: user 384 ms, sys: 4 ms, total: 388 ms\n",
      "Wall time: 388 ms\n"
     ]
    }
   ],
   "source": [
    "%%time\n",
    "# FD modelling of homogeneous elastic medium\n",
    "# ------------------------------------------\n",
    "dx   = 1.0   # grid point distance in x-direction (m)\n",
    "dt = 0.001   # time step (s)\n",
    "\n",
    "FD_1D_visc_SH_JIT(dt,dx,f0,xsrc,Yl,wl,L,'elast')"
   ]
  },
  {
   "cell_type": "markdown",
   "metadata": {},
   "source": [
    "Finally, we run the viscoelastic modelling run and compare it with the elastic analytical solution:"
   ]
  },
  {
   "cell_type": "code",
   "execution_count": 14,
   "metadata": {},
   "outputs": [
    {
     "name": "stdout",
     "output_type": "stream",
     "text": [
      "nx =  500\n",
      "nt =  502\n"
     ]
    },
    {
     "data": {
      "image/png": "[encoded data removed]",
      "text/plain": [
       "<Figure size 864x360 with 1 Axes>"
      ]
     },
     "metadata": {},
     "output_type": "display_data"
    },
    {
     "name": "stdout",
     "output_type": "stream",
     "text": [
      "CPU times: user 292 ms, sys: 8 ms, total: 300 ms\n",
      "Wall time: 295 ms\n"
     ]
    }
   ],
   "source": [
    "%%time\n",
    "# FD modelling of homogeneous viscoelastic medium\n",
    "# -----------------------------------------------\n",
    "dx   = 1.0   # grid point distance in x-direction (m)\n",
    "dt = 0.001   # time step (s)\n",
    "\n",
    "FD_1D_visc_SH_JIT(dt,dx,f0,xsrc,Yl,wl,L,'visc')"
   ]
  },
  {
   "cell_type": "markdown",
   "metadata": {},
   "source": [
    "## What we learned:\n",
    "\n",
    "* How to solve the 1D viscoelastic SH problem by a staggered grid finite-difference approach\n",
    "* Optimize the anelastic coefficients $Y_l$ by the global optimization Differential Evolution algorithm to achieve a constant Q-spectrum\n",
    "* Compared the effect of intrinsic damping for $Q=20$ to the elastic analytical solution"
   ]
  }
 ],
 "metadata": {
  "anaconda-cloud": {},
  "kernelspec": {
   "display_name": "Python 3",
   "language": "python",
   "name": "python3"
  },
  "language_info": {
   "codemirror_mode": {
    "name": "ipython",
    "version": 3
   },
   "file_extension": ".py",
   "mimetype": "text/x-python",
   "name": "python",
   "nbconvert_exporter": "python",
   "pygments_lexer": "ipython3",
   "version": "3.6.5"
  }
 },
 "nbformat": 4,
 "nbformat_minor": 1
}
