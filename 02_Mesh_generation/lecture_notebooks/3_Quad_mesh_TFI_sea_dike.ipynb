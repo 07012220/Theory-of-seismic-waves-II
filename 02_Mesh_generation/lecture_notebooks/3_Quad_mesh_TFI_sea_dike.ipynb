{
 "cells": [
  {
   "cell_type": "markdown",
   "metadata": {},
   "source": [
    "###### Content under Creative Commons Attribution license CC-BY 4.0, code under BSD 3-Clause License © 2018 D. Koehn, notebook style sheet by L.A. Barba, N.C. Clementi"
   ]
  },
  {
   "cell_type": "code",
   "execution_count": null,
   "metadata": {},
   "outputs": [],
   "source": [
    "# Execute this cell to load the notebook's style sheet, then ignore it\n",
    "from IPython.core.display import HTML\n",
    "css_file = '../../style/custom.css'\n",
    "HTML(open(css_file, \"r\").read())"
   ]
  },
  {
   "cell_type": "markdown",
   "metadata": {},
   "source": [
    "# Mesh generation by Transfinite Interpolation applied to the sea dike problem\n",
    "\n",
    "We have implemented and tested our mesh generation approach using Transfinite Interpolation (TFI) in the previous lesson. Now, let's apply it to the problem of the sea dike with strong topography."
   ]
  },
  {
   "cell_type": "markdown",
   "metadata": {},
   "source": [
    "## Revisiting the sea dike problem\n",
    "\n",
    "To generate a deformed quad mesh incorporating the strong topography of the sea dike, we only have to describe the topography by a parametrized curve. We can roughly describe it by the following equations:\n",
    "\n",
    "* $x = 0\\; m - 4\\; m\\; \\rightarrow\\; z(x) = 0\\; m$\n",
    "* $x = 4\\; m - 18.5\\; m\\; \\rightarrow\\; z(x) = \\frac{6.76}{14.5}(x-4)\\; m$\n",
    "* $x = 18.5\\; m - 22.5\\; m\\; \\rightarrow\\; z(x) = 6.76\\; m$\n",
    "* $x = 22.5\\; m - 44.17\\; m\\; \\rightarrow\\; z(x) = -\\frac{3.82}{21.67}(x-22.5)\\; m$\n",
    "\n",
    "This might be a little bit rough approximation, because photos of the data acquisition show a smooth transition between the tilted and horizontal surfaces of the dike. Nevertheless, let's try to generate a mesh for this topography model."
   ]
  },
  {
   "cell_type": "code",
   "execution_count": null,
   "metadata": {
    "code_folding": [
     0
    ]
   },
   "outputs": [],
   "source": [
    "# Import Libraries\n",
    "%matplotlib inline\n",
    "import numpy as np\n",
    "import matplotlib.pyplot as plt\n",
    "\n",
    "# Here, I introduce a new library, which is useful \n",
    "# to define the fonts and size of a figure in a notebook\n",
    "from pylab import rcParams\n",
    "\n",
    "# Get rid of a Matplotlib deprecation warning\n",
    "import warnings\n",
    "warnings.filterwarnings(\"ignore\")"
   ]
  },
  {
   "cell_type": "code",
   "execution_count": null,
   "metadata": {},
   "outputs": [],
   "source": []
  },
  {
   "cell_type": "code",
   "execution_count": null,
   "metadata": {},
   "outputs": [],
   "source": []
  },
  {
   "cell_type": "markdown",
   "metadata": {},
   "source": [
    "Unfortunately, the TFI is defined on the unit square, so we have to normalize the sea dike topography, before applying the TFI. "
   ]
  },
  {
   "cell_type": "code",
   "execution_count": null,
   "metadata": {},
   "outputs": [],
   "source": []
  },
  {
   "cell_type": "code",
   "execution_count": null,
   "metadata": {},
   "outputs": [],
   "source": []
  },
  {
   "cell_type": "markdown",
   "metadata": {},
   "source": [
    "OK, now we have the normalized dike topography on a unit square, so we can define the parametric curve for the topography."
   ]
  },
  {
   "cell_type": "code",
   "execution_count": null,
   "metadata": {
    "code_folding": []
   },
   "outputs": [],
   "source": []
  },
  {
   "cell_type": "code",
   "execution_count": null,
   "metadata": {},
   "outputs": [],
   "source": []
  },
  {
   "cell_type": "code",
   "execution_count": null,
   "metadata": {},
   "outputs": [],
   "source": [
    "# Transfinite interpolation\n",
    "\n",
    "# Discretize along xi and eta axis\n",
    "xi = np.linspace(0.0, 1.0, num=NX)\n",
    "eta = np.linspace(0.0, 1.0, num=NZ)\n",
    "\n",
    "xi1, eta1 = np.meshgrid(xi, eta)\n",
    "\n",
    "# Intialize matrices for x and z axis\n",
    "X = np.zeros((NX,NZ))\n",
    "Z = np.zeros((NX,NZ))\n",
    "\n",
    "# loop over cells\n",
    "for i in range(NX):\n",
    "    Xi = xi[i]\n",
    "    for j in range(NZ):\n",
    "        Eta = eta[j]\n",
    "        \n",
    "        xb = Xb(Xi)\n",
    "        xb0 = Xb(0)\n",
    "        xb1 = Xb(1)\n",
    "        \n",
    "        xt = Xt(Xi)\n",
    "        xt0 = Xt(0)\n",
    "        xt1 = Xt(1)\n",
    "        \n",
    "        xl = Xl(Eta)\n",
    "        xr = Xr(Eta)\n",
    "\n",
    "        # Transfinite Interpolation (Gordon-Hall algorithm)\n",
    "        X[i,j] = (1-Eta) * xb[0] + Eta * xt[0] + (1-Xi) * xl[0] + Xi * xr[0] \\\n",
    "               - (Xi * Eta * xt1[0] + Xi * (1-Eta) * xb1[0] + Eta * (1-Xi) * xt0[0] \\\n",
    "               + (1-Xi) * (1-Eta) * xb0[0])\n",
    "            \n",
    "        Z[i,j] = (1-Eta) * xb[1] + Eta * xt[1] + (1-Xi) * xl[1] + Xi * xr[1] \\\n",
    "               - (Xi * Eta * xt1[1] + Xi * (1-Eta) * xb1[1] + Eta * (1-Xi) * xt0[1] \\\n",
    "               + (1-Xi) * (1-Eta) * xb0[1])        "
   ]
  },
  {
   "cell_type": "markdown",
   "metadata": {},
   "source": [
    "No error so far. Before plotting the generated mesh, we have to unnormalize the spatial coordinates."
   ]
  },
  {
   "cell_type": "code",
   "execution_count": null,
   "metadata": {},
   "outputs": [],
   "source": []
  },
  {
   "cell_type": "code",
   "execution_count": null,
   "metadata": {},
   "outputs": [],
   "source": [
    "# Plot TFI mesh (physical domain)\n",
    "plt.plot(X, Z, 'k')\n",
    "plt.plot(X.T, Z.T, 'k')\n",
    "\n",
    "plt.title(\"Sea dike TFI grid (physical domain)\" )\n",
    "plt.xlabel(\"x [m]\")\n",
    "plt.ylabel(\"z [m]\")\n",
    "plt.axes().set_aspect('equal')\n",
    "#plt.savefig('sea_dike_TFI.pdf', bbox_inches='tight', format='pdf')\n",
    "plt.show()"
   ]
  },
  {
   "cell_type": "markdown",
   "metadata": {},
   "source": [
    "Finally, we have a deformed quad mesh for the sea dike problem, representing the strong surface topography very well."
   ]
  },
  {
   "cell_type": "markdown",
   "metadata": {},
   "source": [
    "## We learned:\n",
    "\n",
    "* How to generate a deformed quad mesh by transfinite interpolation for a sea dike topography\n",
    "* Mesh generation is quite time-consuming\n",
    "* What Post-Docs do in their free-time"
   ]
  }
 ],
 "metadata": {
  "anaconda-cloud": {},
  "kernelspec": {
   "display_name": "Python 3",
   "language": "python",
   "name": "python3"
  },
  "language_info": {
   "codemirror_mode": {
    "name": "ipython",
    "version": 3
   },
   "file_extension": ".py",
   "mimetype": "text/x-python",
   "name": "python",
   "nbconvert_exporter": "python",
   "pygments_lexer": "ipython3",
   "version": "3.6.5"
  }
 },
 "nbformat": 4,
 "nbformat_minor": 1
}
