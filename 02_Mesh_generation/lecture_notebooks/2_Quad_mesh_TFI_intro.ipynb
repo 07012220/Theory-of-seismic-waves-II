{
 "cells": [
  {
   "cell_type": "markdown",
   "metadata": {},
   "source": [
    "###### Content under Creative Commons Attribution license CC-BY 4.0, code under BSD 3-Clause License © 2018 D. Koehn, notebook style sheet by L.A. Barba, N.C. Clementi"
   ]
  },
  {
   "cell_type": "code",
   "execution_count": 1,
   "metadata": {},
   "outputs": [
    {
     "data": {
      "text/html": [
       "<link href=\"https://fonts.googleapis.com/css?family=Merriweather:300,300i,400,400i,700,700i,900,900i\" rel='stylesheet' >\n",
       "<link href=\"https://fonts.googleapis.com/css?family=Source+Sans+Pro:300,300i,400,400i,700,700i\" rel='stylesheet' >\n",
       "<link href='http://fonts.googleapis.com/css?family=Source+Code+Pro:300,400' rel='stylesheet' >\n",
       "<style>\n",
       "\n",
       "@font-face {\n",
       "    font-family: \"Computer Modern\";\n",
       "    src: url('http://mirrors.ctan.org/fonts/cm-unicode/fonts/otf/cmunss.otf');\n",
       "}\n",
       "\n",
       "\n",
       "#notebook_panel { /* main background */\n",
       "    background: rgb(245,245,245);\n",
       "}\n",
       "\n",
       "div.cell { /* set cell width */\n",
       "    width: 800px;\n",
       "}\n",
       "\n",
       "div #notebook { /* centre the content */\n",
       "    background: #fff; /* white background for content */\n",
       "    width: 1000px;\n",
       "    margin: auto;\n",
       "    padding-left: 0em;\n",
       "}\n",
       "\n",
       "#notebook li { /* More space between bullet points */\n",
       "margin-top:0.5em;\n",
       "}\n",
       "\n",
       "/* draw border around running cells */\n",
       "div.cell.border-box-sizing.code_cell.running { \n",
       "    border: 1px solid #111;\n",
       "}\n",
       "\n",
       "/* Put a solid color box around each cell and its output, visually linking them*/\n",
       "div.cell.code_cell {\n",
       "    background-color: rgb(256,256,256); \n",
       "    border-radius: 0px; \n",
       "    padding: 0.5em;\n",
       "    margin-left:1em;\n",
       "    margin-top: 1em;\n",
       "}\n",
       "\n",
       "\n",
       "div.text_cell_render{\n",
       "    font-family: 'Source Sans Pro', sans-serif;\n",
       "    line-height: 140%;\n",
       "    font-size: 110%;\n",
       "    width:680px;\n",
       "    margin-left:auto;\n",
       "    margin-right:auto;\n",
       "}\n",
       "\n",
       "/* Formatting for header cells */\n",
       ".text_cell_render h1 {\n",
       "    font-family: 'Merriweather', serif;\n",
       "    font-style:regular;\n",
       "    font-weight: bold;    \n",
       "    font-size: 250%;\n",
       "    line-height: 100%;\n",
       "    color: #004065;\n",
       "    margin-bottom: 1em;\n",
       "    margin-top: 0.5em;\n",
       "    display: block;\n",
       "}\t\n",
       ".text_cell_render h2 {\n",
       "    font-family: 'Merriweather', serif;\n",
       "    font-weight: bold; \n",
       "    font-size: 180%;\n",
       "    line-height: 100%;\n",
       "    color: #0096d6;\n",
       "    margin-bottom: 0.5em;\n",
       "    margin-top: 0.5em;\n",
       "    display: block;\n",
       "}\t\n",
       "\n",
       ".text_cell_render h3 {\n",
       "    font-family: 'Merriweather', serif;\n",
       "\tfont-size: 150%;\n",
       "    margin-top:12px;\n",
       "    margin-bottom: 3px;\n",
       "    font-style: regular;\n",
       "    color: #008367;\n",
       "}\n",
       "\n",
       ".text_cell_render h4 {    /*Use this for captions*/\n",
       "    font-family: 'Merriweather', serif;\n",
       "    font-weight: 300; \n",
       "    font-size: 100%;\n",
       "    line-height: 120%;\n",
       "    text-align: left;\n",
       "    width:500px;\n",
       "    margin-top: 1em;\n",
       "    margin-bottom: 2em;\n",
       "    margin-left: 80pt;\n",
       "    font-style: regular;\n",
       "}\n",
       "\n",
       ".text_cell_render h5 {  /*Use this for small titles*/\n",
       "    font-family: 'Source Sans Pro', sans-serif;\n",
       "    font-weight: regular;\n",
       "    font-size: 130%;\n",
       "    color: #e31937;\n",
       "    font-style: italic;\n",
       "    margin-bottom: .5em;\n",
       "    margin-top: 1em;\n",
       "    display: block;\n",
       "}\n",
       "\n",
       ".text_cell_render h6 { /*use this for copyright note*/\n",
       "    font-family: 'Source Code Pro', sans-serif;\n",
       "    font-weight: 300;\n",
       "    font-size: 9pt;\n",
       "    line-height: 100%;\n",
       "    color: grey;\n",
       "    margin-bottom: 1px;\n",
       "    margin-top: 1px;\n",
       "}\n",
       "\n",
       "    .CodeMirror{\n",
       "            font-family: \"Source Code Pro\";\n",
       "\t\t\tfont-size: 90%;\n",
       "    }\n",
       "/*    .prompt{\n",
       "        display: None;\n",
       "    }*/\n",
       "\t\n",
       "    \n",
       "    .warning{\n",
       "        color: rgb( 240, 20, 20 )\n",
       "        }  \n",
       "</style>\n",
       "<script>\n",
       "    MathJax.Hub.Config({\n",
       "                        TeX: {\n",
       "                           extensions: [\"AMSmath.js\"], \n",
       "                           equationNumbers: { autoNumber: \"AMS\", useLabelIds: true}\n",
       "                           },\n",
       "                tex2jax: {\n",
       "                    inlineMath: [ ['$','$'], [\"\\\\(\",\"\\\\)\"] ],\n",
       "                    displayMath: [ ['$$','$$'], [\"\\\\[\",\"\\\\]\"] ]\n",
       "                },\n",
       "                displayAlign: 'center', // Change this to 'center' to center equations.\n",
       "                \"HTML-CSS\": {\n",
       "                    styles: {'.MathJax_Display': {\"margin\": 4}}\n",
       "                }\n",
       "        });\n",
       "</script>\n"
      ],
      "text/plain": [
       "<IPython.core.display.HTML object>"
      ]
     },
     "execution_count": 1,
     "metadata": {},
     "output_type": "execute_result"
    }
   ],
   "source": [
    "# Execute this cell to load the notebook's style sheet, then ignore it\n",
    "from IPython.core.display import HTML\n",
    "css_file = '../../style/custom.css'\n",
    "HTML(open(css_file, \"r\").read())"
   ]
  },
  {
   "cell_type": "markdown",
   "metadata": {},
   "source": [
    "# Deformed Cartesian quad meshes by transfinite interpolation\n",
    "\n",
    "As we have seen in the previous lesson, the equidistant Cartesian grid has some serious limitations when an accurate approximation of layer interfaces is required. One possible solution are deformed Cartesian quad meshes, which are commonly used in the framework of the Spectral Element Method which we will cover in a later lecture. I want to illustrate this problem using an example I'm currently working on."
   ]
  },
  {
   "cell_type": "markdown",
   "metadata": {},
   "source": [
    "## Problem: Sea Dike with strong topography\n",
    "\n",
    "I have applied Full Waveform Inversion (FWI) to SH-data acquired on a sea dike at the west coast of Schleswig-Holstein in Northern Germany ([Köhn et al. 2018](https://www.researchgate.net/publication/324138422_Sea_dike_evaluation_by_SH_full_waveform_inversion)). To avoid problems with the Cartesian-grid discretization of the free-surface with strong topography used in the finite-difference forward modelling code, the model and acquisition geometry are rotated according to the topography and the FWI applied to a model with planar free surface. Finally, the FWI results are rotated back relative to the true sea dike topography. The resulting Vs-model shows some high- and low-velocity layers (Fig. 1), which can be related to sand and marine clay layers verified by borehole-profiles.\n",
    "\n",
    "<img src=\"../images/tumlauk_deich_FWI.jpg\" width=\"90%\">\n",
    "\n",
    "*Fig. 1 FWI results for the land- and sea-side of the Tümlauer Koog sea dike (from [Köhn et al. 2018](https://www.researchgate.net/publication/324138422_Sea_dike_evaluation_by_SH_full_waveform_inversion)).*\n",
    "\n",
    "This approach has the disadvantage, that we can not use the full dataset acquired over the full length of the dike, but have to restrict the FWI to sources and receivers on the tilted surfaces of the dike. Therefore, we want to replace the finite difference by a spectral element forward modelling engine, which can handle a model discretization using regular deformed quad meshes."
   ]
  },
  {
   "cell_type": "markdown",
   "metadata": {},
   "source": [
    "## Transfinite Interpolation \n",
    "\n",
    "We want to map a Cartesian mesh defined on a unit sqare in the logical domain $(\\xi,\\eta)$ to the physical domain $(x,z)$, where the Cartesian mesh is deformed:\n",
    "\n",
    "<img src=\"../images/TFI_concept.png\" width=\"100%\">\n",
    "\n",
    "The deformation of the mesh is described by the boundary curves $\\vec{x}_t$, $\\vec{x}_b$, $\\vec{x}_l$ and $\\vec{x}_r$. To calculate the deformed quad cells inside the physical domain we can use **Transfinite Interpolation (TFI)**. TFI was introduced by ([Gordon and Hall, 1973 ](https://onlinelibrary.wiley.com/doi/abs/10.1002/nme.1620070405)) which uses the first degree **Lagrange polynomials** $1-\\xi$, $\\xi$, $1-\\eta$ and $\\eta$ as blending functions in the basic transfinite interpolation formula:\n",
    "\n",
    "\\begin{align}\n",
    "\\vec{x}(\\xi,\\eta) & = (1-\\eta)\\vec{x}_b(\\xi) + \\eta \\vec{x}_t(\\xi) + (1-\\xi)\\vec{x}_l(\\eta)+\\xi\\vec{x}_r(\\eta)\\nonumber\\\\\n",
    "&-\\{\\xi\\eta\\vec{x}_t(1)+\\xi(1-\\eta)\\vec{x}_b(1)\\nonumber\\\\\n",
    "&+\\eta(1-\\xi)\\vec{x}_t(0)+(1-\\xi)(1-\\eta)\\vec{x}_b(0),\\nonumber\n",
    "\\end{align}\n",
    "\n",
    "with $\\vec{x}=(x,z)$. For more details, I refer to the book [The Fundamentals of Grid Generation](https://www.researchgate.net/publication/265361548_The_Fundamentals_of_Grid_Generation) by Patrick M. Knupp and Stanly Steinberg. Let's try to reproduce an example from the book denoted as \"The Swan\". "
   ]
  },
  {
   "cell_type": "code",
   "execution_count": 2,
   "metadata": {
    "code_folding": [
     0
    ]
   },
   "outputs": [],
   "source": [
    "# Import Libraries\n",
    "%matplotlib inline\n",
    "import numpy as np\n",
    "import matplotlib.pyplot as plt\n",
    "\n",
    "# Here, I introduce a new library, which is useful \n",
    "# to define the fonts and size of a figure in a notebook\n",
    "from pylab import rcParams\n",
    "\n",
    "# Get rid of a Matplotlib deprecation warning\n",
    "import warnings\n",
    "warnings.filterwarnings(\"ignore\")"
   ]
  },
  {
   "cell_type": "code",
   "execution_count": null,
   "metadata": {
    "code_folding": []
   },
   "outputs": [],
   "source": []
  },
  {
   "cell_type": "code",
   "execution_count": null,
   "metadata": {},
   "outputs": [],
   "source": []
  },
  {
   "cell_type": "code",
   "execution_count": null,
   "metadata": {},
   "outputs": [],
   "source": []
  },
  {
   "cell_type": "code",
   "execution_count": null,
   "metadata": {},
   "outputs": [],
   "source": []
  },
  {
   "cell_type": "markdown",
   "metadata": {},
   "source": [
    "The implemented TFI seem to work correctly, so we can take a look at the sea dike problem in the next lesson."
   ]
  },
  {
   "cell_type": "markdown",
   "metadata": {},
   "source": [
    "## We learned:\n",
    "\n",
    "* A rough idea how a Cartesian mesh can be deformed by TFI\n",
    "* How to implement TFI\n",
    "* How to fold a Cartesian mesh to a digital swan. Folding of an analog swan is described [here](http://www.origami-instructions.com/origami-swan.html)"
   ]
  }
 ],
 "metadata": {
  "anaconda-cloud": {},
  "kernelspec": {
   "display_name": "Python 3",
   "language": "python",
   "name": "python3"
  },
  "language_info": {
   "codemirror_mode": {
    "name": "ipython",
    "version": 3
   },
   "file_extension": ".py",
   "mimetype": "text/x-python",
   "name": "python",
   "nbconvert_exporter": "python",
   "pygments_lexer": "ipython3",
   "version": "3.6.5"
  }
 },
 "nbformat": 4,
 "nbformat_minor": 1
}
