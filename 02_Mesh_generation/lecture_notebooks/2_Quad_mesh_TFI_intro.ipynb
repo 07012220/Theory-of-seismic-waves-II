{
 "cells": [
  {
   "cell_type": "markdown",
   "metadata": {},
   "source": [
    "###### Content under Creative Commons Attribution license CC-BY 4.0, code under BSD 3-Clause License © 2018 D. Koehn, notebook style sheet by L.A. Barba, N.C. Clementi"
   ]
  },
  {
   "cell_type": "code",
   "execution_count": null,
   "metadata": {},
   "outputs": [],
   "source": [
    "# Execute this cell to load the notebook's style sheet, then ignore it\n",
    "from IPython.core.display import HTML\n",
    "css_file = '../../style/custom.css'\n",
    "HTML(open(css_file, \"r\").read())"
   ]
  },
  {
   "cell_type": "markdown",
   "metadata": {},
   "source": [
    "# Deformed Cartesian quad meshes by transfinite interpolation\n",
    "\n",
    "As we have seen in the previous lesson, the equidistant Cartesian grid has some serious limitations when an accurate approximation of layer interfaces is required. One possible solution are deformed Cartesian quad meshes, which are commonly used in the framework of the Spectral Element Method which we will cover in a later lecture. I want to illustrate this problem using an example I'm currently working on."
   ]
  },
  {
   "cell_type": "markdown",
   "metadata": {},
   "source": [
    "## Problem: Sea Dike with strong topography\n",
    "\n",
    "I have applied Full Waveform Inversion (FWI) to SH-data acquired on a sea dike at the west coast of Schleswig-Holstein in Northern Germany ([Köhn et al. 2018](https://www.researchgate.net/publication/324138422_Sea_dike_evaluation_by_SH_full_waveform_inversion)). To avoid problems with the Cartesian-grid discretization of the free-surface with strong topography used in the finite-difference forward modelling code, the model and acquisition geometry are rotated according to the topography and the FWI applied to a model with planar free surface. Finally, the FWI results are rotated back relative to the true sea dike topography. The resulting Vs-model shows some high- and low-velocity layers (Fig. 1), which can be related to sand and marine clay layers verified by borehole-profiles.\n",
    "\n",
    "<img src=\"../images/tumlauk_deich_FWI.jpg\" width=\"90%\">\n",
    "\n",
    "*Fig. 1 FWI results for the land- and sea-side of the Tümlauer Koog sea dike (from [Köhn et al. 2018](https://www.researchgate.net/publication/324138422_Sea_dike_evaluation_by_SH_full_waveform_inversion)).*\n",
    "\n",
    "This approach has the disadvantage, that we can not use the full dataset acquired over the full length of the dike, but have to restrict the FWI to sources and receivers on the tilted surfaces of the dike. Therefore, we want to replace the finite difference by a spectral element forward modelling engine, which can handle a model discretization using regular deformed quad meshes."
   ]
  },
  {
   "cell_type": "markdown",
   "metadata": {},
   "source": [
    "## Transfinite Interpolation \n",
    "\n",
    "We want to map a Cartesian mesh defined on a unit sqare in the logical domain $(\\xi,\\eta)$ to the physical domain $(x,z)$, where the Cartesian mesh is deformed:\n",
    "\n",
    "<img src=\"../images/TFI_concept.png\" width=\"100%\">\n",
    "\n",
    "The deformation of the mesh is described by the boundary curves $\\vec{x}_t$, $\\vec{x}_b$, $\\vec{x}_l$ and $\\vec{x}_r$. To calculate the deformed quad cells inside the physical domain we can use **Transfinite Interpolation (TFI)**. TFI was introduced by ([Gordon and Hall, 1973 ](https://onlinelibrary.wiley.com/doi/abs/10.1002/nme.1620070405)) which uses the first degree **Lagrange polynomials** $1-\\xi$, $\\xi$, $1-\\eta$ and $\\eta$ as blending functions in the basic transfinite interpolation formula:\n",
    "\n",
    "\\begin{align}\n",
    "\\vec{x}(\\xi,\\eta) & = (1-\\eta)\\vec{x}_b(\\xi) + \\eta \\vec{x}_t(\\xi) + (1-\\xi)\\vec{x}_l(\\eta)+\\xi\\vec{x}_r(\\eta)\\nonumber\\\\\n",
    "&-\\{\\xi\\eta\\vec{x}_t(1)+\\xi(1-\\eta)\\vec{x}_b(1)\\nonumber\\\\\n",
    "&+\\eta(1-\\xi)\\vec{x}_t(0)+(1-\\xi)(1-\\eta)\\vec{x}_b(0),\\nonumber\n",
    "\\end{align}\n",
    "\n",
    "with $\\vec{x}=(x,z)$. For more details, I refer to the book [The Fundamentals of Grid Generation](https://www.researchgate.net/publication/265361548_The_Fundamentals_of_Grid_Generation) by Patrick M. Knupp and Stanly Steinberg. Let's try to reproduce an example from the book denoted as \"The Swan\". "
   ]
  },
  {
   "cell_type": "code",
   "execution_count": null,
   "metadata": {
    "code_folding": [
     0
    ]
   },
   "outputs": [],
   "source": [
    "# Import Libraries\n",
    "%matplotlib inline\n",
    "import numpy as np\n",
    "import matplotlib.pyplot as plt\n",
    "\n",
    "# Here, I introduce a new library, which is useful \n",
    "# to define the fonts and size of a figure in a notebook\n",
    "from pylab import rcParams\n",
    "\n",
    "# Get rid of a Matplotlib deprecation warning\n",
    "import warnings\n",
    "warnings.filterwarnings(\"ignore\")"
   ]
  },
  {
   "cell_type": "code",
   "execution_count": null,
   "metadata": {
    "code_folding": []
   },
   "outputs": [],
   "source": [
    "# Define parameters for deformed Cartesian mesh\n",
    "NX = 20\n",
    "NZ = 20"
   ]
  },
  {
   "cell_type": "code",
   "execution_count": null,
   "metadata": {},
   "outputs": [],
   "source": [
    "# Define parametric curves at model boundaries ...\n",
    "\n",
    "# ... bottom boundary\n",
    "\n",
    "# ... top boundary\n",
    "\n",
    "\n",
    "# ... left boundary\n",
    "\n",
    "\n",
    "# ... right boundary\n"
   ]
  },
  {
   "cell_type": "code",
   "execution_count": null,
   "metadata": {},
   "outputs": [],
   "source": [
    "# Transfinite interpolation\n",
    "\n",
    "# Discretize along xi and eta axis\n",
    "xi = np.linspace(0.0, 1.0, num=NX)\n",
    "eta = np.linspace(0.0, 1.0, num=NZ)\n",
    "\n",
    "xi1, eta1 = np.meshgrid(xi, eta)\n",
    "\n",
    "# Intialize matrices for x and z axis\n",
    "X = np.zeros((NX,NZ))\n",
    "Z = np.zeros((NX,NZ))\n",
    "\n",
    "# loop over cells\n",
    "for i in range(NX):\n",
    "    Xi = xi[i]\n",
    "    for j in range(NZ):\n",
    "        Eta = eta[j]\n",
    "        \n",
    "        # evaluate parametric curves\n",
    "        xb = Xb(Xi)\n",
    "        xb0 = Xb(0)\n",
    "        xb1 = Xb(1)\n",
    "        \n",
    "        xt = Xt(Xi)\n",
    "        xt0 = Xt(0)\n",
    "        xt1 = Xt(1)\n",
    "        \n",
    "        xl = Xl(Eta)\n",
    "        xr = Xr(Eta)\n",
    "\n",
    "        # Transfinite Interpolation (Gordon-Hall algorithm)\n",
    "        X[i,j] = (1-Eta) * xb[0] + Eta * xt[0] + (1-Xi) * xl[0] + Xi * xr[0] \\\n",
    "               - (Xi * Eta * xt1[0] + Xi * (1-Eta) * xb1[0] + Eta * (1-Xi) * xt0[0] \\\n",
    "               + (1-Xi) * (1-Eta) * xb0[0])\n",
    "            \n",
    "        Z[i,j] = (1-Eta) * xb[1] + Eta * xt[1] + (1-Xi) * xl[1] + Xi * xr[1] \\\n",
    "               - (Xi * Eta * xt1[1] + Xi * (1-Eta) * xb1[1] + Eta * (1-Xi) * xt0[1] \\\n",
    "               + (1-Xi) * (1-Eta) * xb0[1])        "
   ]
  },
  {
   "cell_type": "code",
   "execution_count": null,
   "metadata": {},
   "outputs": [],
   "source": [
    "# Define figure size\n",
    "rcParams['figure.figsize'] = 10, 7\n",
    "\n",
    "# Plot TFI mesh (physical domain)\n",
    "plt.plot(xi1, eta1, 'k')\n",
    "plt.plot(xi1.T, eta1.T, 'k')\n",
    "\n",
    "# Plot grid points\n",
    "plt.plot(xi1, eta1, 'bo')\n",
    "\n",
    "plt.title(\"Cartesian grid (logical domain)\" )\n",
    "plt.xlabel(r\"$\\xi$ []\")\n",
    "plt.ylabel(r\"$\\eta$ []\")\n",
    "plt.axes().set_aspect('equal')\n",
    "plt.show()\n",
    "\n",
    "# Plot TFI mesh (physical domain)\n",
    "plt.plot(X, Z, 'k')\n",
    "plt.plot(X.T, Z.T, 'k')\n",
    "\n",
    "# Plot grid points\n",
    "plt.plot(X, Z, 'bo')\n",
    "\n",
    "plt.title(\"Swan TFI grid (physical domain)\" )\n",
    "plt.xlabel(\"x []\")\n",
    "plt.ylabel(\"z []\")\n",
    "plt.axes().set_aspect('equal')\n",
    "#plt.savefig('vp_sine1.pdf', bbox_inches='tight', format='pdf')\n",
    "plt.show()"
   ]
  },
  {
   "cell_type": "markdown",
   "metadata": {},
   "source": [
    "The implemented TFI seem to work correctly, so we can take a look at the sea dike problem in the next lesson."
   ]
  },
  {
   "cell_type": "markdown",
   "metadata": {},
   "source": [
    "## We learned:\n",
    "\n",
    "* How a Cartesian mesh can be deformed by TFI\n",
    "* How to implement TFI\n",
    "* How to fold a Cartesian mesh to a digital swan. Folding of an analog swan is described [here](http://www.origami-instructions.com/origami-swan.html)"
   ]
  }
 ],
 "metadata": {
  "anaconda-cloud": {},
  "kernelspec": {
   "display_name": "Python 3",
   "language": "python",
   "name": "python3"
  },
  "language_info": {
   "codemirror_mode": {
    "name": "ipython",
    "version": 3
   },
   "file_extension": ".py",
   "mimetype": "text/x-python",
   "name": "python",
   "nbconvert_exporter": "python",
   "pygments_lexer": "ipython3",
   "version": "3.6.5"
  }
 },
 "nbformat": 4,
 "nbformat_minor": 1
}
