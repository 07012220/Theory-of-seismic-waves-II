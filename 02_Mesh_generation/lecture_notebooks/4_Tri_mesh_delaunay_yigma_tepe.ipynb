{
 "cells": [
  {
   "cell_type": "markdown",
   "metadata": {},
   "source": [
    "###### Content under Creative Commons Attribution license CC-BY 4.0, code under BSD 3-Clause License © 2018 D. Koehn, notebook style sheet by L.A. Barba, N.C. Clementi"
   ]
  },
  {
   "cell_type": "code",
   "execution_count": null,
   "metadata": {},
   "outputs": [],
   "source": [
    "# Execute this cell to load the notebook's style sheet, then ignore it\n",
    "from IPython.core.display import HTML\n",
    "css_file = '../../style/custom.css'\n",
    "HTML(open(css_file, \"r\").read())"
   ]
  },
  {
   "cell_type": "markdown",
   "metadata": {},
   "source": [
    "# Triangular mesh generation\n",
    "\n",
    "In the last lesson we learned how to create a quad mesh by Transfinite Interpolation to accurately approximate the strong topography of a sea dike. We can use this mesh for spectral element modelling. But what should we do, if we need a triangular mesh for example for Finite Element modelling?"
   ]
  },
  {
   "cell_type": "markdown",
   "metadata": {},
   "source": [
    "## Yigma Tepe - another problem with strong topography\n",
    "\n",
    "You might think that the sea dike topography was already quite complex. Well, here is another problem we are currently working on at the \"Applied Geophysics\" group at Christian-Albrechts University Kiel:\n",
    "\n",
    "<img src=\"../images/yigmatepe_1.jpg\" width=\"100%\">\n",
    "\n",
    "This is [Yigma Tepe](https://vici.org/vici/42048/?lang=en), a tumulus which might be a burial of an Attilad King located in Pergamon (Turkey). Extensive [geophysical prospecting](https://publications.dainst.org/journals/index.php/efb/article/view/1562/4464) and [archaeological excavations](https://www.archaeologie-online.de/nachrichten/neue-forschungen-zu-den-antiken-grabhuegeln-der-welterbestaette-pergamon-2937/) revealed small scale near-surface structures, which makes Yigma Tepe an ideal target to further develop 2D SH and 3D seismic full waveform inversion in the field of archaeological prospection. A critical part is the correct discretization of the complex free-surface topography, crucial for accurate modelling of surface waves. \n",
    "\n",
    "Let's take a look at a 2D quad mesh created by Transfinite-Interpolation for a SH-profile along the tumulus."
   ]
  },
  {
   "cell_type": "code",
   "execution_count": null,
   "metadata": {
    "code_folding": [
     0
    ]
   },
   "outputs": [],
   "source": [
    "# Import Libraries\n",
    "%matplotlib inline\n",
    "import numpy as np\n",
    "import matplotlib.pyplot as plt\n",
    "\n",
    "# Here, I introduce a new library, which is useful \n",
    "# to define the fonts and size of a figure in a notebook\n",
    "from pylab import rcParams\n",
    "\n",
    "# Get rid of a Matplotlib deprecation warning\n",
    "import warnings\n",
    "warnings.filterwarnings(\"ignore\")"
   ]
  },
  {
   "cell_type": "code",
   "execution_count": null,
   "metadata": {},
   "outputs": [],
   "source": [
    "# Load Yigma Tepe quad mesh created by TFI\n"
   ]
  },
  {
   "cell_type": "code",
   "execution_count": null,
   "metadata": {},
   "outputs": [],
   "source": [
    "# Define figure size\n",
    "rcParams['figure.figsize'] = 10, 7\n",
    "\n",
    "# Plot Yigma Tepe TFI mesh\n",
    "plt.plot(X, Z, 'k')\n",
    "plt.plot(X.T, Z.T, 'k')\n",
    "plt.plot(X, Z, 'bo', markersize=4)\n",
    "\n",
    "plt.title(\"Yigma Tepe TFI mesh\" )\n",
    "plt.xlabel(\"x [m]\")\n",
    "plt.ylabel(\"z [m]\")\n",
    "plt.axes().set_aspect('equal')\n",
    "#plt.savefig('yigma_tepe_TFI.pdf', bbox_inches='tight', format='pdf')\n",
    "plt.show()"
   ]
  },
  {
   "cell_type": "markdown",
   "metadata": {},
   "source": [
    "This quad mesh is already able to accurately describe the free-surface topography. "
   ]
  },
  {
   "cell_type": "markdown",
   "metadata": {},
   "source": [
    "## Triangular mesh generation\n",
    "\n",
    "If we need a triangular mesh, for example for finite element or finite volume modelling,  we could apply **Delaunay triangulation** to the node point distribution of the Yigma Tepe TFI mesh. For further details related to Delaunay triangulation, I refer to [Computational Geometry in Python](http://blancosilva.github.io/post/2014/10/28/Computational-Geometry-in-Python.html) by Francisco Blanco-Silva. \n",
    "\n",
    "In a first step, we assemble the x- and z-vectors in a (NX*NZ x 2) matrix."
   ]
  },
  {
   "cell_type": "code",
   "execution_count": null,
   "metadata": {},
   "outputs": [],
   "source": [
    "# Reshape X and Z vector\n",
    "x = X.flatten()\n",
    "z = Z.flatten()\n",
    "\n",
    "# Assemble x and z vector into NX*NZ x 2 matrix\n",
    "points = np.vstack([x,z]).T"
   ]
  },
  {
   "cell_type": "markdown",
   "metadata": {},
   "source": [
    "Next, we compute the **Voronoi diagram** for the mesh points. This describes the partitioning of a plane with n points into convex polygons such that each polygon contains exactly one generating point and every point in a given polygon is closer to its generating point than to any other."
   ]
  },
  {
   "cell_type": "code",
   "execution_count": null,
   "metadata": {},
   "outputs": [],
   "source": [
    "# calculate and plot Voronoi diagram for mesh points\n",
    "from scipy.spatial import Voronoi, voronoi_plot_2d\n",
    "\n",
    "vor = Voronoi(points)\n",
    "\n",
    "plt.figure(figsize=(12,6))\n",
    "ax = plt.subplot(111, aspect='equal')\n",
    "voronoi_plot_2d(vor, ax=ax)\n",
    "\n",
    "plt.title(\"Part of Yigma Tepe (Voronoi diagram)\" )\n",
    "plt.xlabel(\"x [m]\")\n",
    "plt.ylabel(\"z [m]\")\n",
    "plt.xlim( 25,  75)\n",
    "plt.ylim(10, 35)\n",
    "plt.show()"
   ]
  },
  {
   "cell_type": "markdown",
   "metadata": {},
   "source": [
    "The **Delaunay triangulation** creates triangles by connecting the points in neighbouring Voronoi cells."
   ]
  },
  {
   "cell_type": "code",
   "execution_count": null,
   "metadata": {},
   "outputs": [],
   "source": [
    "# Apply Delaunay triangulation to the quad mesh node points\n",
    "from scipy.spatial import Delaunay\n",
    "\n",
    "tri = Delaunay(points)\n",
    "\n",
    "plt.figure(figsize=(12,6))\n",
    "ax = plt.subplot(111, aspect='equal')\n",
    "voronoi_plot_2d(vor, ax=ax)\n",
    "plt.triplot(points[:,0], points[:,1], tri.simplices.copy(), linewidth=3, color='b')\n",
    "plt.title(\"Part of Yigma Tepe (Voronoi diagram & Delaunay triangulation)\" )\n",
    "plt.xlabel(\"x [m]\")\n",
    "plt.ylabel(\"z [m]\")\n",
    "plt.xlim( 25,  75)\n",
    "plt.ylim(10, 35)\n",
    "plt.show()"
   ]
  },
  {
   "cell_type": "markdown",
   "metadata": {},
   "source": [
    "Let's take a look at the final mesh for the Yigma Tepe model"
   ]
  },
  {
   "cell_type": "code",
   "execution_count": null,
   "metadata": {
    "scrolled": false
   },
   "outputs": [],
   "source": [
    "# Plot triangular mesh\n",
    "plt.triplot(points[:,0], points[:,1], tri.simplices.copy())\n",
    "plt.title(\"Yigma Tepe Delaunay mesh\" )\n",
    "plt.xlabel(\"x [m]\")\n",
    "plt.ylabel(\"z [m]\")\n",
    "plt.axes().set_aspect('equal')\n",
    "plt.show()"
   ]
  },
  {
   "cell_type": "markdown",
   "metadata": {},
   "source": [
    "The regular triangulation within the tumulus looks reasonable. However, the Delaunay triangulation also added unwanted triangles above the topography. To solve this problem we have to use **constrained Delaunay triangulation** in order to restrict the triangulation to the model below the free-surface topography. Unfortunately, constrained Delaunay triangulation is not available within `SciPy`. \n",
    "\n",
    "However, there exists a `python` wrapper to the mesh generator [Triangle](http://www.cs.cmu.edu/~quake/triangle.html) by Richard Shewchuck. This wrapper can be installed by \n",
    "\n",
    "* `git clone --depth=1 https://github.com/drufat/triangle.git`\n",
    "* `cd triangle`\n",
    "* `python setup.py install`\n",
    "\n",
    "A detailed documentation of the Triangle Python wrapper by [Dzhelil Rufat](http://dzhelil.info/index.html) can be found [here](http://dzhelil.info/triangle/)."
   ]
  },
  {
   "cell_type": "code",
   "execution_count": null,
   "metadata": {},
   "outputs": [],
   "source": [
    "# import triangulate library\n",
    "from triangle import triangulate, show_data, plot as tplot\n",
    "import triangle"
   ]
  },
  {
   "cell_type": "markdown",
   "metadata": {},
   "source": [
    "In order to use the constrained Delaunay triangulation, we obviously have to define the constraining vertex points lying on the boundaries of our model. In this case it is quite easy, because the TFI mesh is regular. \n",
    "\n",
    "OK, perhaps not so easy, because we have to be sure that no redundant points are in the final list and the points are sequentially defined in clockwise direction."
   ]
  },
  {
   "cell_type": "code",
   "execution_count": null,
   "metadata": {},
   "outputs": [],
   "source": [
    "# Estimate boundary points \n"
   ]
  },
  {
   "cell_type": "markdown",
   "metadata": {},
   "source": [
    "The above code looks a little bit chaotic, but you can check that the points in the resulting array *model_bound* are correctly sorted and contains no redundant points. "
   ]
  },
  {
   "cell_type": "code",
   "execution_count": null,
   "metadata": {},
   "outputs": [],
   "source": [
    "plt.plot(model_bound[:,0],model_bound[:,1],'bo')\n",
    "plt.title(\"Yigma Tepe model boundary\" )\n",
    "plt.xlabel(\"x [m]\")\n",
    "plt.ylabel(\"z [m]\")\n",
    "plt.axes().set_aspect('equal')\n",
    "plt.show()"
   ]
  },
  {
   "cell_type": "markdown",
   "metadata": {},
   "source": [
    "\n",
    "Good, now we have defined the model boundary points. Time for some **constrained Delaunay triangulation** ..."
   ]
  },
  {
   "cell_type": "code",
   "execution_count": null,
   "metadata": {},
   "outputs": [],
   "source": [
    "# define vertices (no redundant points)\n",
    "\n",
    "\n",
    "# apply Delaunay triangulation to vertices\n",
    "\n",
    "\n",
    "# define vertex markers\n",
    "\n",
    "\n",
    "# define how the vertices are connected, e.g. point 0 is connected to point 1, \n",
    "# point 1 to point 2 and so on ... \n",
    "\n",
    "\n",
    "# last point is connected to the first point\n",
    "\n",
    "\n",
    "# define connectivity of boundary polygon\n",
    "\n",
    "\n",
    "# define marker for boundary polygon\n",
    "\n",
    "\n",
    "# assemble dictionary for triangle optimisation\n",
    "A = dict(vertices=vert, vertex_markers=vertm, segments=seg, segment_markers=segm,triangles=tri)"
   ]
  },
  {
   "cell_type": "code",
   "execution_count": null,
   "metadata": {},
   "outputs": [],
   "source": [
    "# Optimise initial triangulation\n",
    "cndt = triangle.triangulate(A,'pD')\n",
    "ax = plt.subplot(111, aspect='equal')\n",
    "tplot.plot(ax,**cndt)"
   ]
  },
  {
   "cell_type": "markdown",
   "metadata": {},
   "source": [
    "Very good, compared to the `SciPy` Delaunay triangulation, no triangles are added above the topography. However, most triangles have very small minimum angles, which would lead to serious numerical issues in later finite element modelling runs. So in the next step we restrict the minimum angle to 20° using the option `q20`."
   ]
  },
  {
   "cell_type": "code",
   "execution_count": null,
   "metadata": {},
   "outputs": [],
   "source": [
    "cncfq20dt = triangulate(A,'pq20D')\n",
    "ax = plt.subplot(111, aspect='equal')\n",
    "tplot.plot(ax,**cncfq20dt)"
   ]
  },
  {
   "cell_type": "markdown",
   "metadata": {},
   "source": [
    "Finally, we want a more evenly distribution of the triangle sizes. This can be achieved by imposing a maximum area to the triangles with the option `a20`."
   ]
  },
  {
   "cell_type": "code",
   "execution_count": null,
   "metadata": {},
   "outputs": [],
   "source": [
    "cncfq20adt = triangulate(A,'pq20a20D')\n",
    "ax = plt.subplot(111, aspect='equal')\n",
    "tplot.plot(ax,**cncfq20adt)"
   ]
  },
  {
   "cell_type": "markdown",
   "metadata": {},
   "source": [
    "Compared to the `SciPy` Delaunay triangulation, the optimized mesh created by constrained Delaunay triangulation correctly describes the free-surface topography and can be used for modelling of seismic wave propagation with finite element or finite volume methods.\n",
    "\n",
    "## Mesh generators\n",
    "\n",
    "We have seen, that mesh generation from scratch can be quite time-consuming, even for a simple model geometry. Therefore, it is recommended to use mesh generators. Here, I summarize a few of the most popular codes:\n",
    "\n",
    "* [CUBIT](https://cubit.sandia.gov/) developed by Sandia national laboratories, CUBIT is the most widely used mesh generator. A disadvantage of the code is that it is only available for users employed in the US government.\n",
    "\n",
    "* [TRELIS](https://www.csimsoft.com/trelis.jsp) This is the international version of CUBIT. However, it has an annual lease license.\n",
    "\n",
    "As mentioned in the introduction, my philosopy is that science should rely on OpenSource codes in order to achieve reproducible research. Therefore, I prefer OpenSource meshers, e.g.:\n",
    "\n",
    "* [Gmsh](http://gmsh.info/) developed by Christophe Geuzaine and Jean-François Remacle, Gmsh can create triangular, tetrahedral, quad and hex meshes. Gmsh also has some visualization capabilites for post-processing.\n",
    "\n",
    "* [Tetgen](http://wias-berlin.de/software/index.jsp?id=TetGen&lang=1) developed by Hang Si, can produce tetrahedral meshes. \n",
    "\n",
    "* We already used [Triangle](https://www.cs.cmu.edu/~quake/triangle.html) together with a Python wrapper in this Jupyter notebook to create a 2D triangular mesh for the Yigma Tepe tumulus. More complex triangular meshes can also be created with Triangle. \n",
    "\n",
    "* Another nice Python interface for Triangle and Tetgen is [MeshPy](https://mathema.tician.de/software/meshpy/) by Andreas Klöckner."
   ]
  },
  {
   "cell_type": "markdown",
   "metadata": {},
   "source": [
    "## We learned:\n",
    "\n",
    "* How to read and display an external regular TFI mesh for the Yigma Tepe tumulus\n",
    "* Building a Voronoi diagram and triangular Delaunay mesh based on the regular TFI quad mesh node points\n",
    "* Building a triangular mesh for the Yigma Tepe tumulus from scratch using constrained Delaunay triangulation\n",
    "* Triangular mesh generation is even more time-consuming than for the quad mesh\n",
    "* For complex 2D/3D model geometries it is recommend to use a mesh generator like Gmsh , Triangle or Tetgen"
   ]
  }
 ],
 "metadata": {
  "anaconda-cloud": {},
  "kernelspec": {
   "display_name": "Python 3",
   "language": "python",
   "name": "python3"
  },
  "language_info": {
   "codemirror_mode": {
    "name": "ipython",
    "version": 3
   },
   "file_extension": ".py",
   "mimetype": "text/x-python",
   "name": "python",
   "nbconvert_exporter": "python",
   "pygments_lexer": "ipython3",
   "version": "3.6.5"
  }
 },
 "nbformat": 4,
 "nbformat_minor": 1
}
