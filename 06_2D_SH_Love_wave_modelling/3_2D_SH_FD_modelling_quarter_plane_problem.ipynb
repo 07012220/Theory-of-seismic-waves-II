{
 "cells": [
  {
   "cell_type": "markdown",
   "metadata": {},
   "source": [
    "###### Content under Creative Commons Attribution license CC-BY 4.0, code under BSD 3-Clause License © 2018 by D. Koehn, notebook style sheet by L.A. Barba, N.C. Clementi"
   ]
  },
  {
   "cell_type": "code",
   "execution_count": 1,
   "metadata": {},
   "outputs": [
    {
     "data": {
      "text/html": [
       "<link href=\"https://fonts.googleapis.com/css?family=Merriweather:300,300i,400,400i,700,700i,900,900i\" rel='stylesheet' >\n",
       "<link href=\"https://fonts.googleapis.com/css?family=Source+Sans+Pro:300,300i,400,400i,700,700i\" rel='stylesheet' >\n",
       "<link href='http://fonts.googleapis.com/css?family=Source+Code+Pro:300,400' rel='stylesheet' >\n",
       "<style>\n",
       "\n",
       "@font-face {\n",
       "    font-family: \"Computer Modern\";\n",
       "    src: url('http://mirrors.ctan.org/fonts/cm-unicode/fonts/otf/cmunss.otf');\n",
       "}\n",
       "\n",
       "\n",
       "#notebook_panel { /* main background */\n",
       "    background: rgb(245,245,245);\n",
       "}\n",
       "\n",
       "div.cell { /* set cell width */\n",
       "    width: 800px;\n",
       "}\n",
       "\n",
       "div #notebook { /* centre the content */\n",
       "    background: #fff; /* white background for content */\n",
       "    width: 1000px;\n",
       "    margin: auto;\n",
       "    padding-left: 0em;\n",
       "}\n",
       "\n",
       "#notebook li { /* More space between bullet points */\n",
       "margin-top:0.5em;\n",
       "}\n",
       "\n",
       "/* draw border around running cells */\n",
       "div.cell.border-box-sizing.code_cell.running { \n",
       "    border: 1px solid #111;\n",
       "}\n",
       "\n",
       "/* Put a solid color box around each cell and its output, visually linking them*/\n",
       "div.cell.code_cell {\n",
       "    background-color: rgb(256,256,256); \n",
       "    border-radius: 0px; \n",
       "    padding: 0.5em;\n",
       "    margin-left:1em;\n",
       "    margin-top: 1em;\n",
       "}\n",
       "\n",
       "\n",
       "div.text_cell_render{\n",
       "    font-family: 'Source Sans Pro', sans-serif;\n",
       "    line-height: 140%;\n",
       "    font-size: 110%;\n",
       "    width:680px;\n",
       "    margin-left:auto;\n",
       "    margin-right:auto;\n",
       "}\n",
       "\n",
       "/* Formatting for header cells */\n",
       ".text_cell_render h1 {\n",
       "    font-family: 'Merriweather', serif;\n",
       "    font-style:regular;\n",
       "    font-weight: bold;    \n",
       "    font-size: 250%;\n",
       "    line-height: 100%;\n",
       "    color: #004065;\n",
       "    margin-bottom: 1em;\n",
       "    margin-top: 0.5em;\n",
       "    display: block;\n",
       "}\t\n",
       ".text_cell_render h2 {\n",
       "    font-family: 'Merriweather', serif;\n",
       "    font-weight: bold; \n",
       "    font-size: 180%;\n",
       "    line-height: 100%;\n",
       "    color: #0096d6;\n",
       "    margin-bottom: 0.5em;\n",
       "    margin-top: 0.5em;\n",
       "    display: block;\n",
       "}\t\n",
       "\n",
       ".text_cell_render h3 {\n",
       "    font-family: 'Merriweather', serif;\n",
       "\tfont-size: 150%;\n",
       "    margin-top:12px;\n",
       "    margin-bottom: 3px;\n",
       "    font-style: regular;\n",
       "    color: #008367;\n",
       "}\n",
       "\n",
       ".text_cell_render h4 {    /*Use this for captions*/\n",
       "    font-family: 'Merriweather', serif;\n",
       "    font-weight: 300; \n",
       "    font-size: 100%;\n",
       "    line-height: 120%;\n",
       "    text-align: left;\n",
       "    width:500px;\n",
       "    margin-top: 1em;\n",
       "    margin-bottom: 2em;\n",
       "    margin-left: 80pt;\n",
       "    font-style: regular;\n",
       "}\n",
       "\n",
       ".text_cell_render h5 {  /*Use this for small titles*/\n",
       "    font-family: 'Source Sans Pro', sans-serif;\n",
       "    font-weight: regular;\n",
       "    font-size: 130%;\n",
       "    color: #e31937;\n",
       "    font-style: italic;\n",
       "    margin-bottom: .5em;\n",
       "    margin-top: 1em;\n",
       "    display: block;\n",
       "}\n",
       "\n",
       ".text_cell_render h6 { /*use this for copyright note*/\n",
       "    font-family: 'Source Code Pro', sans-serif;\n",
       "    font-weight: 300;\n",
       "    font-size: 9pt;\n",
       "    line-height: 100%;\n",
       "    color: grey;\n",
       "    margin-bottom: 1px;\n",
       "    margin-top: 1px;\n",
       "}\n",
       "\n",
       "    .CodeMirror{\n",
       "            font-family: \"Source Code Pro\";\n",
       "\t\t\tfont-size: 90%;\n",
       "    }\n",
       "/*    .prompt{\n",
       "        display: None;\n",
       "    }*/\n",
       "\t\n",
       "    \n",
       "    .warning{\n",
       "        color: rgb( 240, 20, 20 )\n",
       "        }  \n",
       "</style>\n",
       "<script>\n",
       "    MathJax.Hub.Config({\n",
       "                        TeX: {\n",
       "                           extensions: [\"AMSmath.js\"], \n",
       "                           equationNumbers: { autoNumber: \"AMS\", useLabelIds: true}\n",
       "                           },\n",
       "                tex2jax: {\n",
       "                    inlineMath: [ ['$','$'], [\"\\\\(\",\"\\\\)\"] ],\n",
       "                    displayMath: [ ['$$','$$'], [\"\\\\[\",\"\\\\]\"] ]\n",
       "                },\n",
       "                displayAlign: 'center', // Change this to 'center' to center equations.\n",
       "                \"HTML-CSS\": {\n",
       "                    styles: {'.MathJax_Display': {\"margin\": 4}}\n",
       "                }\n",
       "        });\n",
       "</script>\n"
      ],
      "text/plain": [
       "<IPython.core.display.HTML object>"
      ]
     },
     "execution_count": 1,
     "metadata": {},
     "output_type": "execute_result"
    }
   ],
   "source": [
    "# Execute this cell to load the notebook's style sheet, then ignore it\n",
    "from IPython.core.display import HTML\n",
    "css_file = '../style/custom.css'\n",
    "HTML(open(css_file, \"r\").read())"
   ]
  },
  {
   "cell_type": "markdown",
   "metadata": {},
   "source": [
    "# 2D SH finite difference modelling - the quarter plane problem\n",
    "\n",
    "Before modelling the propagation of Love-waves, let's take a look how accurate reflected body waves from the free-surface boundary can be modelled using the quarter plane problem. This is an important aspect, because one way to understand Love waves is by the interference of SH-body waves in a layered medium."
   ]
  },
  {
   "cell_type": "markdown",
   "metadata": {},
   "source": [
    "## Analytical solution of 2D SH quarter plane problem\n",
    "\n",
    "We seek an analytical solution to the 2D isotropic elastic SH problem: \n",
    "\n",
    "\\begin{align}\n",
    "\\rho \\frac{\\partial v_y}{\\partial t} &= \\frac{\\partial \\sigma_{yx}}{\\partial x} + \\frac{\\partial \\sigma_{yz}}{\\partial z} + f_y, \\notag\\\\\n",
    "\\frac{\\partial \\sigma_{yx}}{\\partial t} &= \\mu \\frac{\\partial v_{y}}{\\partial x},\\notag\\\\\n",
    "\\frac{\\partial \\sigma_{yz}}{\\partial t} &= \\mu \\frac{\\partial v_{y}}{\\partial z}. \\notag\\\\\n",
    "\\end{align}\n",
    "\n",
    "for wave propagation in a homogeneous medium, by setting density $\\rho$ and shear modulus $\\mu$ to constant values $\\rho_0,\\; \\mu_0$\n",
    "\n",
    "\\begin{align}\n",
    "\\rho(i,j) &= \\rho_0 \\notag \\\\\n",
    "\\mu(i,j) &= \\mu_0 = \\rho_0 V_{s0}^2\\notag\n",
    "\\end{align}\n",
    "\n",
    "at each spatial grid point $i = 0, 1, 2, ..., nx$; $j = 0, 1, 2, ..., nz$, in order to compare the numerical with the analytical solution. For a complete description of the problem we also have to define initial and boundary conditions. The **initial condition** is \n",
    "\n",
    "\\begin{equation}\n",
    "v_y(i,j,0) = \\sigma_{yx}(i+1/2,j,0) = \\sigma_{yz}(i,j+1/2,0) = 0, \\nonumber\n",
    "\\end{equation}\n",
    "\n",
    "so the modelling starts with zero particel velocity and shear stress amplitudes at each spatial grid point. As **boundary conditions**, we assume \n",
    "\n",
    "\\begin{align}\n",
    "v_y(0,j,n) &= \\sigma_{yx}(1/2,j,n) = \\sigma_{yz}(0,j+1/2,n) = 0, \\nonumber\\\\\n",
    "v_y(nx,j,n) &= \\sigma_{yx}(nx+1/2,j,n) = \\sigma_{yz}(nx,j+1/2,n) = 0, \\nonumber\\\\\n",
    "v_y(i,0,n) &= \\sigma_{yx}(i+1/2,0,n) = \\sigma_{yz}(i,1/2,n) = 0, \\nonumber\\\\\n",
    "v_y(i,nz,n) &= \\sigma_{yx}(i+1/2,nz,n) = \\sigma_{yz}(i,nz+1/2,n) = 0, \\nonumber\\\\\n",
    "\\end{align}\n",
    "\n",
    "for all time steps n. This **Dirichlet boundary condition**, leads to artifical boundary reflections. In the [previous notebook](http://nbviewer.jupyter.org/github/daniel-koehn/Theory-of-seismic-waves-II/blob/master/06_2D_SH_Love_wave_modelling/2_From_2D_acoustic_to_SH_FD_modelling_final.ipynb), we neglected these reflections. In this case, we want to incorporate them into the analytical solution, to test how accurate the boundary reflections actually are. We can describe the reflections by using **image points**\n",
    "\n",
    "<img src=\"images/SH_quarter_problem.jpg\" width=\"60%\">\n",
    "\n",
    "where we excitate the Green's function solution for the homogenous medium:\n",
    "\n",
    "\\begin{equation}\n",
    "G_{2D}(x,z,t,xsrc,zsrc) = \\dfrac{1}{2\\pi \\rho_0 V_{s0}^2}\\dfrac{H\\biggl((t-t_s)-\\dfrac{|r|}{V_{s0}}\\biggr)}{\\sqrt{(t-t_s)^2-\\dfrac{r^2}{V_{s0}^2}}}, \\nonumber \n",
    "\\end{equation}\n",
    "\n",
    "where $H$ denotes the Heaviside function, $r = \\sqrt{(x-x_s)^2+(z-z_s)^2}$ the source-receiver distance (offset), at image point ... \n",
    "\n",
    "- 1 (-xsrc, zsrc) to describe the reflection from the left free surface boundary\n",
    "- 2 (-xsrc, -zsrc) to describe the reflection from the lower left corner\n",
    "- 3 (xsrc, -zsrc) to describe the reflection from the bottom free surface boundary\n",
    "\n",
    "Using the **superposition principle** of linear partial differential equations, we can describe the Green's function solution for the source and reflected wavefield by\n",
    "\n",
    "\\begin{align}\n",
    "G_{2D}^{total}(x,z,t,xsrc,zsrc) &= G_{2D}^{source}(x,z,t,xsrc,zsrc) + G_{2D}^{image1}(x,z,t,-xsrc,zsrc)\\nonumber\\\\  \n",
    "&+ G_{2D}^{image2}(x,z,t,-xsrc,-zsrc) + G_{2D}^{image3}(x,z,t,xsrc,-zsrc)\\nonumber\\\\\n",
    "\\end{align}\n",
    "\n",
    "For a given source wavelet S, we get the displacement wavefield:\n",
    "\n",
    "\\begin{equation}\n",
    "u_{y,analy}^{total}(x,z,t) = G_{2D}^{total} * S \\nonumber \n",
    "\\end{equation}\n",
    "\n",
    "Keep in mind that the stress-velocity code computes the **particle velocities** $\\mathbf{v_{y,analy}^{total}}$, while the analytical solution is expressed in terms of the **displacement** $\\mathbf{u_{y,analy}^{total}}$. Therefore, we have to take the first derivative of the analytical solution, before comparing the numerical with the analytical solution:\n",
    "\n",
    "\\begin{equation}\n",
    "v_{y,analy}^{total}(x,z,t) = \\frac{\\partial u_{y,analy}^{total}}{\\partial t} \\nonumber \n",
    "\\end{equation}"
   ]
  },
  {
   "cell_type": "code",
   "execution_count": 2,
   "metadata": {
    "code_folding": [
     0
    ]
   },
   "outputs": [],
   "source": [
    "# Import Libraries \n",
    "# ----------------\n",
    "import numpy as np\n",
    "from numba import jit\n",
    "import matplotlib\n",
    "import matplotlib.pyplot as plt\n",
    "from pylab import rcParams\n",
    "\n",
    "# Ignore Warning Messages\n",
    "# -----------------------\n",
    "import warnings\n",
    "warnings.filterwarnings(\"ignore\")"
   ]
  },
  {
   "cell_type": "code",
   "execution_count": 3,
   "metadata": {
    "code_folding": [],
    "scrolled": false
   },
   "outputs": [],
   "source": [
    "# Definition of modelling parameters\n",
    "# ----------------------------------\n",
    "xmax = 500.0 # maximum spatial extension of the 1D model in x-direction (m)\n",
    "zmax = xmax  # maximum spatial extension of the 1D model in z-direction(m)\n",
    "\n",
    "tmax = 1.12   # maximum recording time of the seismogram (s)\n",
    "\n",
    "vs0  = 580.   # S-wave speed in medium (m/s)\n",
    "rho0 = 1000.  # Density in medium (kg/m^3)\n",
    "\n",
    "# acquisition geometry\n",
    "xr = 125.0 # x-receiver position (m)\n",
    "zr = xr    # z-receiver position (m)\n",
    "\n",
    "xsrc = 250.0 # x-source position (m)\n",
    "zsrc = xsrc  # z-source position (m)\n",
    "\n",
    "f0   = 40. # dominant frequency of the source (Hz)\n",
    "t0   = 4. / f0 # source time shift (s)"
   ]
  },
  {
   "cell_type": "markdown",
   "metadata": {},
   "source": [
    "To build the FD code, we first define the velocity update $v_y$ ..."
   ]
  },
  {
   "cell_type": "code",
   "execution_count": 4,
   "metadata": {},
   "outputs": [],
   "source": [
    "# Particle velocity vy update\n",
    "# ---------------------------\n",
    "@jit(nopython=True) # use JIT for C-performance\n",
    "def update_vel(vy, syx, syz, dx, dz, dt, nx, nz, rho, op):\n",
    "    \n",
    "    # 2nd order FD operator\n",
    "    if (op==2):   \n",
    "        for i in range(1, nx - 1):\n",
    "            for j in range(1, nz - 1):\n",
    "            \n",
    "                # Calculate spatial derivatives  (2nd order operator)           \n",
    "                syx_x = (syx[i,j] - syx[i - 1,j]) / dx\n",
    "                syz_z = (syz[i,j] - syz[i,j - 1]) / dz\n",
    "            \n",
    "                # Update particle velocities\n",
    "                vy[i,j] = vy[i,j] + (dt/rho[i,j]) * (syx_x + syz_z)                               \n",
    "                \n",
    "    return vy"
   ]
  },
  {
   "cell_type": "markdown",
   "metadata": {},
   "source": [
    "... update the shear stress components $\\sigma_{yx}$ and $\\sigma_{yz}$ ..."
   ]
  },
  {
   "cell_type": "code",
   "execution_count": 5,
   "metadata": {},
   "outputs": [],
   "source": [
    "# Shear stress syx, syz updates\n",
    "# -----------------------------\n",
    "@jit(nopython=True) # use JIT for C-performance\n",
    "def update_stress(vy, syx, syz, dx, dz, dt, nx, nz, mux, muz, op):\n",
    "    \n",
    "    # 2nd order FD operator\n",
    "    if(op==2):\n",
    "        for i in range(1, nx - 1):\n",
    "            for j in range(1, nz - 1):\n",
    "            \n",
    "                # Calculate spatial derivatives (2nd order operator)\n",
    "                vy_x = (vy[i + 1,j] - vy[i,j]) / dx\n",
    "                vy_z = (vy[i,j + 1] - vy[i,j]) / dz\n",
    "            \n",
    "                # Update shear stresses\n",
    "                syx[i,j] = syx[i,j] + dt * mux[i,j] * vy_x\n",
    "                syz[i,j] = syz[i,j] + dt * muz[i,j] * vy_z                    \n",
    "    \n",
    "    return syx, syz"
   ]
  },
  {
   "cell_type": "markdown",
   "metadata": {},
   "source": [
    "... and harmonically averaging the shear modulus ..."
   ]
  },
  {
   "cell_type": "code",
   "execution_count": 6,
   "metadata": {},
   "outputs": [],
   "source": [
    "# Harmonic averages of shear modulus\n",
    "# ----------------------------------\n",
    "@jit(nopython=True) # use JIT for C-performance\n",
    "def shear_avg(mu, nx, nz, mux, muz):\n",
    "    \n",
    "    for i in range(1, nx - 1):\n",
    "        for j in range(1, nz - 1):\n",
    "            \n",
    "            # Calculate harmonic averages of shear moduli        \n",
    "            mux[i,j] = 2 / (1 / mu[i + 1,j] + 1 / mu[i,j])\n",
    "            muz[i,j] = 2 / (1 / mu[i,j + 1] + 1 / mu[i,j])\n",
    "            \n",
    "    return mux, muz"
   ]
  },
  {
   "cell_type": "markdown",
   "metadata": {},
   "source": [
    "Finally, we define a function to calculate the Green's function at arbritary source positions or image points ..."
   ]
  },
  {
   "cell_type": "code",
   "execution_count": 7,
   "metadata": {},
   "outputs": [],
   "source": [
    "def Green_2D(ir, jr, xsrc, zsrc, x, z, vs0, rho0, time, G, nt):\n",
    "    \n",
    "    # calculate source-receiver distance\n",
    "    #r = np.sqrt((x[ir] - x[isrc])**2 + (z[jr] - z[jsrc])**2)\n",
    "    r = np.sqrt((x[ir] - xsrc)**2 + (z[jr] - zsrc)**2)\n",
    "    \n",
    "    for it in range(nt): # Calculate Green's function (Heaviside function)\n",
    "        if (time[it] - r / vs0) >= 0:\n",
    "            G[it] = 1. / (2 * np.pi * rho0 * vs0**2) * (1. / np.sqrt(time[it]**2 - (r/vs0)**2))\n",
    "    \n",
    "    return G"
   ]
  },
  {
   "cell_type": "markdown",
   "metadata": {},
   "source": [
    "... and assemble the 2D SH FD code ..."
   ]
  },
  {
   "cell_type": "code",
   "execution_count": 8,
   "metadata": {
    "code_folding": [
     42
    ]
   },
   "outputs": [],
   "source": [
    "# 2D SH Wave Propagation (Finite Difference Solution) \n",
    "# ---------------------------------------------------\n",
    "def FD_2D_SH_JIT(dt,dx,dz,f0,xsrc,zsrc,op):\n",
    "        \n",
    "    nx = (int)(xmax/dx) # number of grid points in x-direction\n",
    "    print('nx = ',nx)\n",
    "    \n",
    "    nz = (int)(zmax/dz) # number of grid points in x-direction\n",
    "    print('nz = ',nz)\n",
    "            \n",
    "    nt = (int)(tmax/dt) # maximum number of time steps            \n",
    "    print('nt = ',nt)\n",
    "    \n",
    "    ir = (int)(xr/dx)      # receiver location in grid in x-direction    \n",
    "    jr = (int)(zr/dz)      # receiver location in grid in z-direction\n",
    "    \n",
    "    # half FD-operator length\n",
    "    noph = (int)(op/2)\n",
    "\n",
    "    # Source time function (Gaussian)\n",
    "    # -------------------------------\n",
    "    src  = np.zeros(nt + 1)\n",
    "    time = np.linspace(0 * dt, nt * dt, nt)\n",
    "\n",
    "    # 1st derivative of a Gaussian\n",
    "    src  = -2. * (time - t0) * (f0 ** 2) * (np.exp(- (f0 ** 2) * (time - t0) ** 2))\n",
    "\n",
    "    # Analytical solution\n",
    "    # -------------------\n",
    "    G        = time * 0.\n",
    "    G1       = time * 0.\n",
    "    G2       = time * 0.\n",
    "    G3       = time * 0.\n",
    "    vy_analy = time * 0.\n",
    "\n",
    "    # Initialize coordinates\n",
    "    # ----------------------\n",
    "    x    = np.arange(nx)\n",
    "    x    = x * dx       # coordinates in x-direction (m)\n",
    "\n",
    "    z    = np.arange(nz)\n",
    "    z    = z * dz       # coordinates in z-direction (m)\n",
    "    \n",
    "    # calculate 2D Green's function for direct SH wave from source position    \n",
    "    isrc = (int)(xsrc/dx)  # source location in grid in x-direction\n",
    "    jsrc = (int)(zsrc/dz)  # source location in grid in x-direction\n",
    "    \n",
    "    # calculate source position from isrc and jsrc\n",
    "    xsrcd = isrc * dx\n",
    "    zsrcd = jsrc * dz\n",
    "    \n",
    "    G = Green_2D(ir, jr, xsrcd, zsrcd, x, z, vs0, rho0, time, G, nt)\n",
    "    \n",
    "    # calculate 2D Green's function for image points\n",
    "    # shift image points by half the FD operator size to compare with FD solution\n",
    "    G1 = Green_2D(ir, jr, -xsrcd + noph*dx, zsrcd, x, z, vs0, rho0, time, G1, nt)\n",
    "    G2 = Green_2D(ir, jr, xsrcd, -zsrcd+noph*dz, x, z, vs0, rho0, time, G2, nt)\n",
    "    G3 = Green_2D(ir, jr, -xsrcd+noph*dx, -zsrcd+noph*dz, x, z, vs0, rho0, time, G3, nt)\n",
    "    \n",
    "    G = G + G1 + G2 + G3 \n",
    "    \n",
    "    Gc   = np.convolve(G, src * dt)\n",
    "    Gc   = Gc[0:nt]\n",
    "    \n",
    "    # compute vy_analy from uy_analy\n",
    "    for i in range(1, nt - 1):\n",
    "        vy_analy[i] = (Gc[i+1] - Gc[i-1]) / (2.0 * dt)           \n",
    "    \n",
    "    # Initialize empty pressure arrays\n",
    "    # --------------------------------\n",
    "    vy    = np.zeros((nx,nz)) # particle velocity vy\n",
    "    syx   = np.zeros((nx,nz)) # shear stress syx\n",
    "    syz   = np.zeros((nx,nz)) # shear stress syz        \n",
    "\n",
    "    # Initialize model (assume homogeneous model)\n",
    "    # -------------------------------------------    \n",
    "    vs    = np.zeros((nx,nz))\n",
    "    vs    = vs + vs0      # initialize wave velocity in model\n",
    "    \n",
    "    rho   = np.zeros((nx,nz))\n",
    "    rho   = rho + rho0    # initialize wave velocity in model\n",
    "    \n",
    "    # calculate shear modulus\n",
    "    mu    = np.zeros((nx,nz))\n",
    "    mu    = rho * vs ** 2 \n",
    "    \n",
    "    # harmonic average of shear moduli\n",
    "    # --------------------------------\n",
    "    mux   = mu # initialize harmonic average mux \n",
    "    muz   = mu # initialize harmonic average muz\n",
    "\n",
    "    mux, muz = shear_avg(mu, nx, nz, mux, muz)\n",
    "    \n",
    "    # Initialize empty seismogram\n",
    "    # ---------------------------\n",
    "    seis = np.zeros(nt)     \n",
    "    \n",
    "    # Time looping\n",
    "    # ------------\n",
    "    for it in range(nt):\n",
    "    \n",
    "        # Update particle velocity vy\n",
    "        # ---------------------------\n",
    "        vy = update_vel(vy, syx, syz, dx, dz, dt, nx, nz, rho, op)\n",
    "\n",
    "        # Add Source Term at (isrc,jsrc)\n",
    "        # ------------------------------\n",
    "        # Absolute particle velocity w.r.t analytical solution\n",
    "        vy[isrc,jsrc] = vy[isrc,jsrc] + (dt * src[it] / (rho[isrc,jsrc] * dx * dz))\n",
    "        \n",
    "        # Update shear stress syx, syz\n",
    "        # ----------------------------\n",
    "        syx, syz = update_stress(vy, syx, syz, dx, dz, dt, nx, nz, mux, muz, op)                \n",
    "                           \n",
    "        # Output of Seismogram\n",
    "        # -----------------\n",
    "        seis[it] = vy[ir,jr]   \n",
    "        \n",
    "    # Compare FD Seismogram with analytical solution\n",
    "    # ---------------------------------------------- \n",
    "    # Define figure size\n",
    "    rcParams['figure.figsize'] = 12, 5\n",
    "    plt.plot(time, seis, 'b-',lw=3,label=\"FD solution\") # plot FD seismogram\n",
    "    Analy_seis = plt.plot(time,vy_analy,'r--',lw=3,label=\"Analytical solution\") # plot analytical solution\n",
    "    plt.xlim(time[0], time[-1])\n",
    "    plt.title('Seismogram')\n",
    "    plt.xlabel('Time (s)')\n",
    "    plt.ylabel('Amplitude')\n",
    "    plt.legend()\n",
    "    plt.grid()\n",
    "    plt.show()     \n",
    "    \n",
    "    return vy"
   ]
  },
  {
   "cell_type": "markdown",
   "metadata": {},
   "source": [
    "First, we compare the analytical solution with the FD modelling result using the spatial 2nd order operator and a wavefield sampling of $N_\\lambda = 12$ gridpoints per minimum wavelength:"
   ]
  },
  {
   "cell_type": "code",
   "execution_count": 9,
   "metadata": {},
   "outputs": [
    {
     "name": "stdout",
     "output_type": "stream",
     "text": [
      "nx =  827\n",
      "nz =  827\n",
      "nt =  1520\n"
     ]
    },
    {
     "data": {
      "image/png": "[encoded data removed]",
      "text/plain": [
       "<Figure size 864x360 with 1 Axes>"
      ]
     },
     "metadata": {},
     "output_type": "display_data"
    }
   ],
   "source": [
    "Nlam = 12\n",
    "dx = vs0 / (Nlam * 2 * f0)\n",
    "dz   = dx    # grid point distance in z-direction (m)\n",
    "\n",
    "op = 2       # order of spatial FD operator\n",
    "\n",
    "# calculate dt according to CFL criterion\n",
    "dt = dx / (np.sqrt(2) * vs0) \n",
    "\n",
    "vy = FD_2D_SH_JIT(dt,dx,dz,f0,xsrc,zsrc,op)"
   ]
  },
  {
   "cell_type": "markdown",
   "metadata": {},
   "source": [
    "While, the direct SH wave is modelled very accurately, the fit of the boundary reflection waveforms can be improved. Let's try more grid points per minimum wavelength ($N_\\lambda = 16$)..."
   ]
  },
  {
   "cell_type": "code",
   "execution_count": 10,
   "metadata": {},
   "outputs": [
    {
     "name": "stdout",
     "output_type": "stream",
     "text": [
      "nx =  1103\n",
      "nz =  1103\n",
      "nt =  2027\n"
     ]
    },
    {
     "data": {
      "image/png": "[encoded data removed]",
      "text/plain": [
       "<Figure size 864x360 with 1 Axes>"
      ]
     },
     "metadata": {},
     "output_type": "display_data"
    }
   ],
   "source": [
    "Nlam = 16\n",
    "dx = vs0 / (Nlam * 2 * f0)\n",
    "dz   = dx    # grid point distance in z-direction (m)\n",
    "\n",
    "op = 2       # order of spatial FD operator\n",
    "\n",
    "# calculate dt according to CFL criterion\n",
    "dt = dx / (np.sqrt(2) * vs0) \n",
    "\n",
    "vy = FD_2D_SH_JIT(dt,dx,dz,f0,xsrc,zsrc,op)"
   ]
  },
  {
   "cell_type": "markdown",
   "metadata": {},
   "source": [
    "... which leads to an improved waveform fit of the boundary reflections."
   ]
  },
  {
   "cell_type": "markdown",
   "metadata": {},
   "source": [
    "## What we learned:\n",
    "\n",
    "* Estimating an analytical solution to the quarter-plane problem using the image method and superposition principle of linear partial differential equations\n",
    "* To accurately model the boundary reflections, we have to use at least $N_\\lambda = 16$ gridpoints per wavelength for the 2nd order FD operator."
   ]
  }
 ],
 "metadata": {
  "anaconda-cloud": {},
  "kernelspec": {
   "display_name": "Python 3",
   "language": "python",
   "name": "python3"
  },
  "language_info": {
   "codemirror_mode": {
    "name": "ipython",
    "version": 3
   },
   "file_extension": ".py",
   "mimetype": "text/x-python",
   "name": "python",
   "nbconvert_exporter": "python",
   "pygments_lexer": "ipython3",
   "version": "3.6.5"
  }
 },
 "nbformat": 4,
 "nbformat_minor": 1
}
